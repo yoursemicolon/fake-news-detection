{
  "nbformat": 4,
  "nbformat_minor": 0,
  "metadata": {
    "colab": {
      "name": "User Input Data",
      "provenance": [],
      "collapsed_sections": []
    },
    "kernelspec": {
      "name": "python3",
      "display_name": "Python 3"
    }
  },
  "cells": [
    {
      "cell_type": "code",
      "metadata": {
        "id": "VpGFF25RNFJL",
        "colab_type": "code",
        "colab": {
          "base_uri": "https://localhost:8080/",
          "height": 34
        },
        "outputId": "93d3646d-35df-4b25-d0fc-8ba42c3b54a7"
      },
      "source": [
        "from google.colab import drive\n",
        "drive.mount('/content/drive')"
      ],
      "execution_count": 415,
      "outputs": [
        {
          "output_type": "stream",
          "text": [
            "Drive already mounted at /content/drive; to attempt to forcibly remount, call drive.mount(\"/content/drive\", force_remount=True).\n"
          ],
          "name": "stdout"
        }
      ]
    },
    {
      "cell_type": "code",
      "metadata": {
        "id": "n51cFjCPNIvF",
        "colab_type": "code",
        "colab": {}
      },
      "source": [
        "import pickle\n",
        "from sklearn.feature_extraction.text import CountVectorizer"
      ],
      "execution_count": 416,
      "outputs": []
    },
    {
      "cell_type": "code",
      "metadata": {
        "id": "eT0wTxHvMvFO",
        "colab_type": "code",
        "colab": {}
      },
      "source": [
        "filename = \"/content/drive/My Drive/MIT AI Class Work/Final Project/n-gram_creator_title\"\n",
        "infile = open(filename,'rb')\n",
        "word_vectorizer1 = pickle.load(infile)\n",
        "infile.close()"
      ],
      "execution_count": 417,
      "outputs": []
    },
    {
      "cell_type": "code",
      "metadata": {
        "id": "9eb5No1lWvJ8",
        "colab_type": "code",
        "colab": {}
      },
      "source": [
        "filename = \"/content/drive/My Drive/MIT AI Class Work/Final Project/SVM_model\"\n",
        "infile = open(filename,'rb')\n",
        "model = pickle.load(infile)\n",
        "infile.close()"
      ],
      "execution_count": 418,
      "outputs": []
    },
    {
      "cell_type": "code",
      "metadata": {
        "id": "2h6XXvZHSGr_",
        "colab_type": "code",
        "colab": {
          "base_uri": "https://localhost:8080/",
          "height": 118
        },
        "outputId": "e28d4fba-7ffe-42be-f817-c47bb6a77f5d"
      },
      "source": [
        "import pandas as pd\n",
        "import nltk\n",
        "nltk.download('stopwords')\n",
        "nltk.download('punkt')\n",
        "nltk.download('wordnet')\n",
        "from nltk.corpus import stopwords\n",
        "from nltk.stem import WordNetLemmatizer \n",
        "from sklearn import svm"
      ],
      "execution_count": 419,
      "outputs": [
        {
          "output_type": "stream",
          "text": [
            "[nltk_data] Downloading package stopwords to /root/nltk_data...\n",
            "[nltk_data]   Package stopwords is already up-to-date!\n",
            "[nltk_data] Downloading package punkt to /root/nltk_data...\n",
            "[nltk_data]   Package punkt is already up-to-date!\n",
            "[nltk_data] Downloading package wordnet to /root/nltk_data...\n",
            "[nltk_data]   Package wordnet is already up-to-date!\n"
          ],
          "name": "stdout"
        }
      ]
    },
    {
      "cell_type": "code",
      "metadata": {
        "id": "FlanPacUSM1y",
        "colab_type": "code",
        "colab": {}
      },
      "source": [
        "def preprocess_headline(headline):\n",
        "  #lowercase\n",
        "  headline=headline.lower()\n",
        "  \n",
        "  #tokenize\n",
        "  tokens_for_title = nltk.word_tokenize(headline)\n",
        "  # taken only words and numbers (not punctuation)\n",
        "  token_words_for_title = [w for w in tokens_for_title if w.isalnum()]\n",
        "\n",
        "  #remove stop words\n",
        "  stops = set(stopwords.words(\"english\"))        \n",
        "  meaningful_words = [w for w in token_words_for_title if not w in stops]\n",
        "\n",
        "  #lemmatize words\n",
        "  lemmatizer = WordNetLemmatizer() \n",
        "  lemmatized_list = [lemmatizer.lemmatize(word) for word in meaningful_words]\n",
        "\n",
        "  #join words\n",
        "  joined_words = ( \" \".join(lemmatized_list))\n",
        "\n",
        "  return (joined_words)\n"
      ],
      "execution_count": 420,
      "outputs": []
    },
    {
      "cell_type": "code",
      "metadata": {
        "id": "QCXXPaoRTxAj",
        "colab_type": "code",
        "colab": {}
      },
      "source": [
        "def classify_headline(headline, features = features):\n",
        "  processed_headline = preprocess_headline(headline)\n",
        "\n",
        "  #apply bigram\n",
        "  sparse_matrix_for_title = word_vectorizer1.transform([processed_headline])\n",
        "\n",
        "  #classify with svm\n",
        "  classification = model.predict(sparse_matrix_for_title)\n",
        "\n",
        "  if (classification==1):\n",
        "    return(\"FAKE NEWS!\")\n",
        "  else:\n",
        "    return(\"Real News\")"
      ],
      "execution_count": 421,
      "outputs": []
    },
    {
      "cell_type": "code",
      "metadata": {
        "id": "efvJVa2-V0Cc",
        "colab_type": "code",
        "colab": {
          "base_uri": "https://localhost:8080/",
          "height": 34
        },
        "outputId": "fc1bcbf3-9ba0-49ae-cec8-fd9215d68c9d"
      },
      "source": [
        "headline = input(\"Enter a fake or real news headline: \")"
      ],
      "execution_count": 431,
      "outputs": [
        {
          "output_type": "stream",
          "text": [
            "Enter a fake or real news headline: Congress Announces Willingness To Offer Black Lives Matter Protesters Holiday Or Statue\n"
          ],
          "name": "stdout"
        }
      ]
    },
    {
      "cell_type": "code",
      "metadata": {
        "id": "-Tb2yIuSWLAm",
        "colab_type": "code",
        "colab": {
          "base_uri": "https://localhost:8080/",
          "height": 34
        },
        "outputId": "68b59265-757f-4844-d992-93dcc44c4e85"
      },
      "source": [
        "print(headline + \" : \" + classify_headline(headline,features))"
      ],
      "execution_count": 432,
      "outputs": [
        {
          "output_type": "stream",
          "text": [
            "Congress Announces Willingness To Offer Black Lives Matter Protesters Holiday Or Statue : FAKE NEWS!\n"
          ],
          "name": "stdout"
        }
      ]
    }
  ]
}