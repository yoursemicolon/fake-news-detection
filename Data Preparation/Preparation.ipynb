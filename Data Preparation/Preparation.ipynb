{
 "cells": [
  {
   "cell_type": "markdown",
   "metadata": {
    "id": "9pDyGfQNrqOe"
   },
   "source": [
    "# **Progress Final Project**\n",
    "\n",
    "**Kecerdasan Komputasional F** <br>\n",
    "**Anggota Kelompok:**\n",
    "1. Nur Hidayati (05111940000028)\n",
    "2. Amanda Rozi Kurnia (05111940000094)\n",
    "3. Shahnaaz Anisa Firdaus (05111940000158)\n",
    "\n"
   ]
  },
  {
   "cell_type": "markdown",
   "metadata": {
    "id": "hF9ms7HPt47s"
   },
   "source": [
    "Dataset yang digunakan pada pemodelan Support Vector Machine ini adalah [Fake and Real News Dataset](https://www.kaggle.com/clmentbisaillon/fake-and-real-news-dataset). Dataset ini berisi informasi mengenai data pada artikel. "
   ]
  },
  {
   "cell_type": "markdown",
   "metadata": {
    "id": "s7bR2kMlvUjm"
   },
   "source": [
    "# **Tugas Analitik**\n",
    "Tugas analitik pada pemodelan Machine Learning ini adalah **Klasifikasi**, yaitu menentukan apakah sebuah artikel termasuk ke dalam berita hoax atau tidak."
   ]
  },
  {
   "cell_type": "markdown",
   "metadata": {
    "id": "e54cvDTyv-Qd"
   },
   "source": [
    "# **Data Preparation**\n",
    "\n",
    "----\n",
    "\n",
    "Sebelum melakukan pemodelan dengan algoritma Support Vector Machine, ada beberapa persiapan yang harus dilakukan, yaitu import library, load dataset dan seleksi fitur yang digunakan.\n"
   ]
  },
  {
   "cell_type": "markdown",
   "metadata": {
    "id": "lkwXizQQwOfT"
   },
   "source": [
    "## **Import Library**"
   ]
  },
  {
   "cell_type": "code",
   "execution_count": 7,
   "metadata": {
    "id": "gUAfgLWAwdY7"
   },
   "outputs": [],
   "source": [
    "# Do the necessary imports\n",
    "import pandas as pd\n",
    "import numpy as np\n",
    "import seaborn as sns\n",
    "import matplotlib.pyplot as plt\n",
    "\n",
    "from sklearn.model_selection import train_test_split\n",
    "from sklearn.feature_extraction.text import CountVectorizer\n",
    "from sklearn.svm import LinearSVC\n",
    "from sklearn.metrics import accuracy_score\n",
    "import nltk"
   ]
  },
  {
   "cell_type": "markdown",
   "metadata": {
    "id": "5I3jx5BSwfPz"
   },
   "source": [
    "## **Load Dataset**\n",
    "Setelah melakukan import library, load dataset."
   ]
  },
  {
   "cell_type": "code",
   "execution_count": 2,
   "metadata": {
    "colab": {
     "base_uri": "https://localhost:8080/",
     "height": 206
    },
    "executionInfo": {
     "elapsed": 638,
     "status": "ok",
     "timestamp": 1637865728949,
     "user": {
      "displayName": "Amanda Rozi Kurnia",
      "photoUrl": "https://lh3.googleusercontent.com/a-/AOh14GjlkhpB2BJxelwyiFkZ2a2fjsydZpep2m_zho8WqQ=s64",
      "userId": "08641560073051172744"
     },
     "user_tz": -420
    },
    "id": "5hgTHa7UwoGm",
    "outputId": "1e4a8088-38e7-47e5-9f20-8642d8c802c5"
   },
   "outputs": [
    {
     "data": {
      "text/html": [
       "<div>\n",
       "<style scoped>\n",
       "    .dataframe tbody tr th:only-of-type {\n",
       "        vertical-align: middle;\n",
       "    }\n",
       "\n",
       "    .dataframe tbody tr th {\n",
       "        vertical-align: top;\n",
       "    }\n",
       "\n",
       "    .dataframe thead th {\n",
       "        text-align: right;\n",
       "    }\n",
       "</style>\n",
       "<table border=\"1\" class=\"dataframe\">\n",
       "  <thead>\n",
       "    <tr style=\"text-align: right;\">\n",
       "      <th></th>\n",
       "      <th>title</th>\n",
       "      <th>text</th>\n",
       "      <th>subject</th>\n",
       "      <th>date</th>\n",
       "    </tr>\n",
       "  </thead>\n",
       "  <tbody>\n",
       "    <tr>\n",
       "      <th>0</th>\n",
       "      <td>As U.S. budget fight looms, Republicans flip t...</td>\n",
       "      <td>WASHINGTON (Reuters) - The head of a conservat...</td>\n",
       "      <td>politicsNews</td>\n",
       "      <td>December 31, 2017</td>\n",
       "    </tr>\n",
       "    <tr>\n",
       "      <th>1</th>\n",
       "      <td>U.S. military to accept transgender recruits o...</td>\n",
       "      <td>WASHINGTON (Reuters) - Transgender people will...</td>\n",
       "      <td>politicsNews</td>\n",
       "      <td>December 29, 2017</td>\n",
       "    </tr>\n",
       "    <tr>\n",
       "      <th>2</th>\n",
       "      <td>Senior U.S. Republican senator: 'Let Mr. Muell...</td>\n",
       "      <td>WASHINGTON (Reuters) - The special counsel inv...</td>\n",
       "      <td>politicsNews</td>\n",
       "      <td>December 31, 2017</td>\n",
       "    </tr>\n",
       "    <tr>\n",
       "      <th>3</th>\n",
       "      <td>FBI Russia probe helped by Australian diplomat...</td>\n",
       "      <td>WASHINGTON (Reuters) - Trump campaign adviser ...</td>\n",
       "      <td>politicsNews</td>\n",
       "      <td>December 30, 2017</td>\n",
       "    </tr>\n",
       "    <tr>\n",
       "      <th>4</th>\n",
       "      <td>Trump wants Postal Service to charge 'much mor...</td>\n",
       "      <td>SEATTLE/WASHINGTON (Reuters) - President Donal...</td>\n",
       "      <td>politicsNews</td>\n",
       "      <td>December 29, 2017</td>\n",
       "    </tr>\n",
       "  </tbody>\n",
       "</table>\n",
       "</div>"
      ],
      "text/plain": [
       "                                               title  \\\n",
       "0  As U.S. budget fight looms, Republicans flip t...   \n",
       "1  U.S. military to accept transgender recruits o...   \n",
       "2  Senior U.S. Republican senator: 'Let Mr. Muell...   \n",
       "3  FBI Russia probe helped by Australian diplomat...   \n",
       "4  Trump wants Postal Service to charge 'much mor...   \n",
       "\n",
       "                                                text       subject  \\\n",
       "0  WASHINGTON (Reuters) - The head of a conservat...  politicsNews   \n",
       "1  WASHINGTON (Reuters) - Transgender people will...  politicsNews   \n",
       "2  WASHINGTON (Reuters) - The special counsel inv...  politicsNews   \n",
       "3  WASHINGTON (Reuters) - Trump campaign adviser ...  politicsNews   \n",
       "4  SEATTLE/WASHINGTON (Reuters) - President Donal...  politicsNews   \n",
       "\n",
       "                 date  \n",
       "0  December 31, 2017   \n",
       "1  December 29, 2017   \n",
       "2  December 31, 2017   \n",
       "3  December 30, 2017   \n",
       "4  December 29, 2017   "
      ]
     },
     "execution_count": 2,
     "metadata": {},
     "output_type": "execute_result"
    }
   ],
   "source": [
    "# Load data\n",
    "df_true = pd.read_csv(\"../Dataset/Original Data/True.csv\")\n",
    "df_true.head()"
   ]
  },
  {
   "cell_type": "code",
   "execution_count": 3,
   "metadata": {
    "colab": {
     "base_uri": "https://localhost:8080/",
     "height": 206
    },
    "executionInfo": {
     "elapsed": 12,
     "status": "ok",
     "timestamp": 1637865730688,
     "user": {
      "displayName": "Amanda Rozi Kurnia",
      "photoUrl": "https://lh3.googleusercontent.com/a-/AOh14GjlkhpB2BJxelwyiFkZ2a2fjsydZpep2m_zho8WqQ=s64",
      "userId": "08641560073051172744"
     },
     "user_tz": -420
    },
    "id": "R6PhrFBsxD00",
    "outputId": "c7720c43-4bfc-473b-a37c-ee6e213ba552"
   },
   "outputs": [
    {
     "data": {
      "text/html": [
       "<div>\n",
       "<style scoped>\n",
       "    .dataframe tbody tr th:only-of-type {\n",
       "        vertical-align: middle;\n",
       "    }\n",
       "\n",
       "    .dataframe tbody tr th {\n",
       "        vertical-align: top;\n",
       "    }\n",
       "\n",
       "    .dataframe thead th {\n",
       "        text-align: right;\n",
       "    }\n",
       "</style>\n",
       "<table border=\"1\" class=\"dataframe\">\n",
       "  <thead>\n",
       "    <tr style=\"text-align: right;\">\n",
       "      <th></th>\n",
       "      <th>title</th>\n",
       "      <th>text</th>\n",
       "      <th>subject</th>\n",
       "      <th>date</th>\n",
       "    </tr>\n",
       "  </thead>\n",
       "  <tbody>\n",
       "    <tr>\n",
       "      <th>0</th>\n",
       "      <td>Donald Trump Sends Out Embarrassing New Year’...</td>\n",
       "      <td>Donald Trump just couldn t wish all Americans ...</td>\n",
       "      <td>News</td>\n",
       "      <td>December 31, 2017</td>\n",
       "    </tr>\n",
       "    <tr>\n",
       "      <th>1</th>\n",
       "      <td>Drunk Bragging Trump Staffer Started Russian ...</td>\n",
       "      <td>House Intelligence Committee Chairman Devin Nu...</td>\n",
       "      <td>News</td>\n",
       "      <td>December 31, 2017</td>\n",
       "    </tr>\n",
       "    <tr>\n",
       "      <th>2</th>\n",
       "      <td>Sheriff David Clarke Becomes An Internet Joke...</td>\n",
       "      <td>On Friday, it was revealed that former Milwauk...</td>\n",
       "      <td>News</td>\n",
       "      <td>December 30, 2017</td>\n",
       "    </tr>\n",
       "    <tr>\n",
       "      <th>3</th>\n",
       "      <td>Trump Is So Obsessed He Even Has Obama’s Name...</td>\n",
       "      <td>On Christmas day, Donald Trump announced that ...</td>\n",
       "      <td>News</td>\n",
       "      <td>December 29, 2017</td>\n",
       "    </tr>\n",
       "    <tr>\n",
       "      <th>4</th>\n",
       "      <td>Pope Francis Just Called Out Donald Trump Dur...</td>\n",
       "      <td>Pope Francis used his annual Christmas Day mes...</td>\n",
       "      <td>News</td>\n",
       "      <td>December 25, 2017</td>\n",
       "    </tr>\n",
       "  </tbody>\n",
       "</table>\n",
       "</div>"
      ],
      "text/plain": [
       "                                               title  \\\n",
       "0   Donald Trump Sends Out Embarrassing New Year’...   \n",
       "1   Drunk Bragging Trump Staffer Started Russian ...   \n",
       "2   Sheriff David Clarke Becomes An Internet Joke...   \n",
       "3   Trump Is So Obsessed He Even Has Obama’s Name...   \n",
       "4   Pope Francis Just Called Out Donald Trump Dur...   \n",
       "\n",
       "                                                text subject  \\\n",
       "0  Donald Trump just couldn t wish all Americans ...    News   \n",
       "1  House Intelligence Committee Chairman Devin Nu...    News   \n",
       "2  On Friday, it was revealed that former Milwauk...    News   \n",
       "3  On Christmas day, Donald Trump announced that ...    News   \n",
       "4  Pope Francis used his annual Christmas Day mes...    News   \n",
       "\n",
       "                date  \n",
       "0  December 31, 2017  \n",
       "1  December 31, 2017  \n",
       "2  December 30, 2017  \n",
       "3  December 29, 2017  \n",
       "4  December 25, 2017  "
      ]
     },
     "execution_count": 3,
     "metadata": {},
     "output_type": "execute_result"
    }
   ],
   "source": [
    "# Load data\n",
    "df_fake = pd.read_csv(\"../Dataset/Original Data/Fake.csv\")\n",
    "df_fake.head()"
   ]
  },
  {
   "cell_type": "markdown",
   "metadata": {
    "id": "wmxDyE4uxTXs"
   },
   "source": [
    "Dari hasil di atas, dapat diketahui bahwa **Fake and Real News** mempunyai beberapa atribut yang berisi informasi mengenai sebuah artikel."
   ]
  },
  {
   "cell_type": "markdown",
   "metadata": {
    "id": "OldWr0TMxpq6"
   },
   "source": [
    "## **Telaah Data**\n",
    "Untuk mendapatkan ringkasan fitur yang terdapat pada dataset, ringkasan ini mencakup daftar semua kolom dengan tipe datanya dan jumlah nilai bukan nol di setiap kolom. "
   ]
  },
  {
   "cell_type": "markdown",
   "metadata": {
    "id": "9_yEQ6Yw5c-8"
   },
   "source": [
    "### **Tipe Data**"
   ]
  },
  {
   "cell_type": "code",
   "execution_count": 4,
   "metadata": {
    "colab": {
     "base_uri": "https://localhost:8080/"
    },
    "executionInfo": {
     "elapsed": 18,
     "status": "ok",
     "timestamp": 1637865732488,
     "user": {
      "displayName": "Amanda Rozi Kurnia",
      "photoUrl": "https://lh3.googleusercontent.com/a-/AOh14GjlkhpB2BJxelwyiFkZ2a2fjsydZpep2m_zho8WqQ=s64",
      "userId": "08641560073051172744"
     },
     "user_tz": -420
    },
    "id": "Y2xlruOd5kzB",
    "outputId": "cd765b94-b179-4152-8a48-bf6028c9e28e"
   },
   "outputs": [
    {
     "name": "stdout",
     "output_type": "stream",
     "text": [
      "title      object\n",
      "text       object\n",
      "subject    object\n",
      "date       object\n",
      "dtype: object\n"
     ]
    }
   ],
   "source": [
    "# data types from each columns\n",
    "print(df_true.dtypes)"
   ]
  },
  {
   "cell_type": "code",
   "execution_count": 5,
   "metadata": {
    "colab": {
     "base_uri": "https://localhost:8080/"
    },
    "executionInfo": {
     "elapsed": 14,
     "status": "ok",
     "timestamp": 1637865735622,
     "user": {
      "displayName": "Amanda Rozi Kurnia",
      "photoUrl": "https://lh3.googleusercontent.com/a-/AOh14GjlkhpB2BJxelwyiFkZ2a2fjsydZpep2m_zho8WqQ=s64",
      "userId": "08641560073051172744"
     },
     "user_tz": -420
    },
    "id": "2cN08jlC5--1",
    "outputId": "a65b2e67-9b38-4fbc-fccd-1e2c4829d932"
   },
   "outputs": [
    {
     "name": "stdout",
     "output_type": "stream",
     "text": [
      "title      object\n",
      "text       object\n",
      "subject    object\n",
      "date       object\n",
      "dtype: object\n"
     ]
    }
   ],
   "source": [
    "print(df_fake.dtypes)"
   ]
  },
  {
   "cell_type": "markdown",
   "metadata": {
    "id": "1S_q4PnU5C29"
   },
   "source": [
    "Dari hasil di atas, kita dapat mengetahui bahwa tipe data dari kolom yang ada di dataset di atas adalah object (string)."
   ]
  },
  {
   "cell_type": "markdown",
   "metadata": {
    "id": "IND5vHxS6D7R"
   },
   "source": [
    "### **Data Info**\n",
    "Menghitung ukuran (jumlah baris dan kolom) dari dataset."
   ]
  },
  {
   "cell_type": "code",
   "execution_count": 8,
   "metadata": {
    "colab": {
     "base_uri": "https://localhost:8080/"
    },
    "executionInfo": {
     "elapsed": 8,
     "status": "ok",
     "timestamp": 1637865737239,
     "user": {
      "displayName": "Amanda Rozi Kurnia",
      "photoUrl": "https://lh3.googleusercontent.com/a-/AOh14GjlkhpB2BJxelwyiFkZ2a2fjsydZpep2m_zho8WqQ=s64",
      "userId": "08641560073051172744"
     },
     "user_tz": -420
    },
    "id": "yEjGA_ucx85L",
    "outputId": "2dabdddb-6df4-4a93-96ef-d4b1a18b4d2a"
   },
   "outputs": [
    {
     "name": "stdout",
     "output_type": "stream",
     "text": [
      "<class 'pandas.core.frame.DataFrame'>\n",
      "RangeIndex: 21417 entries, 0 to 21416\n",
      "Data columns (total 4 columns):\n",
      " #   Column   Non-Null Count  Dtype \n",
      "---  ------   --------------  ----- \n",
      " 0   title    21417 non-null  object\n",
      " 1   text     21417 non-null  object\n",
      " 2   subject  21417 non-null  object\n",
      " 3   date     21417 non-null  object\n",
      "dtypes: object(4)\n",
      "memory usage: 669.4+ KB\n"
     ]
    }
   ],
   "source": [
    "# Data True Info\n",
    "df_true.info()"
   ]
  },
  {
   "cell_type": "code",
   "execution_count": 9,
   "metadata": {},
   "outputs": [
    {
     "name": "stdout",
     "output_type": "stream",
     "text": [
      "21417\n"
     ]
    }
   ],
   "source": [
    "# the number of rows\n",
    "print(len(df_true))"
   ]
  },
  {
   "cell_type": "code",
   "execution_count": 10,
   "metadata": {},
   "outputs": [
    {
     "name": "stdout",
     "output_type": "stream",
     "text": [
      "4\n"
     ]
    }
   ],
   "source": [
    "# the number of columns\n",
    "print(len(df_true.columns))"
   ]
  },
  {
   "cell_type": "code",
   "execution_count": 11,
   "metadata": {
    "colab": {
     "base_uri": "https://localhost:8080/"
    },
    "executionInfo": {
     "elapsed": 462,
     "status": "ok",
     "timestamp": 1637865739736,
     "user": {
      "displayName": "Amanda Rozi Kurnia",
      "photoUrl": "https://lh3.googleusercontent.com/a-/AOh14GjlkhpB2BJxelwyiFkZ2a2fjsydZpep2m_zho8WqQ=s64",
      "userId": "08641560073051172744"
     },
     "user_tz": -420
    },
    "id": "tOLDeS0r6fc4",
    "outputId": "145d5239-3331-49ce-b3af-f2ef88b2c74d"
   },
   "outputs": [
    {
     "name": "stdout",
     "output_type": "stream",
     "text": [
      "<class 'pandas.core.frame.DataFrame'>\n",
      "RangeIndex: 23481 entries, 0 to 23480\n",
      "Data columns (total 4 columns):\n",
      " #   Column   Non-Null Count  Dtype \n",
      "---  ------   --------------  ----- \n",
      " 0   title    23481 non-null  object\n",
      " 1   text     23481 non-null  object\n",
      " 2   subject  23481 non-null  object\n",
      " 3   date     23481 non-null  object\n",
      "dtypes: object(4)\n",
      "memory usage: 733.9+ KB\n"
     ]
    }
   ],
   "source": [
    "# Data Fake Info\n",
    "df_fake.info()"
   ]
  },
  {
   "cell_type": "code",
   "execution_count": 12,
   "metadata": {},
   "outputs": [
    {
     "name": "stdout",
     "output_type": "stream",
     "text": [
      "23481\n"
     ]
    }
   ],
   "source": [
    "# the number of rows\n",
    "print(len(df_fake))"
   ]
  },
  {
   "cell_type": "code",
   "execution_count": 13,
   "metadata": {},
   "outputs": [
    {
     "name": "stdout",
     "output_type": "stream",
     "text": [
      "4\n"
     ]
    }
   ],
   "source": [
    "# the number of columns\n",
    "print(len(df_fake.columns))"
   ]
  },
  {
   "cell_type": "markdown",
   "metadata": {
    "id": "JEWHVGpdyK5f"
   },
   "source": [
    "## **Missing Values**"
   ]
  },
  {
   "cell_type": "code",
   "execution_count": 14,
   "metadata": {
    "colab": {
     "base_uri": "https://localhost:8080/"
    },
    "executionInfo": {
     "elapsed": 10,
     "status": "ok",
     "timestamp": 1637865741431,
     "user": {
      "displayName": "Amanda Rozi Kurnia",
      "photoUrl": "https://lh3.googleusercontent.com/a-/AOh14GjlkhpB2BJxelwyiFkZ2a2fjsydZpep2m_zho8WqQ=s64",
      "userId": "08641560073051172744"
     },
     "user_tz": -420
    },
    "id": "FAJxm-2fyN71",
    "outputId": "6603a5e3-6dc9-4f11-d7e5-c0cbb88382ac"
   },
   "outputs": [
    {
     "data": {
      "text/plain": [
       "title      0\n",
       "text       0\n",
       "subject    0\n",
       "date       0\n",
       "dtype: int64"
      ]
     },
     "execution_count": 14,
     "metadata": {},
     "output_type": "execute_result"
    }
   ],
   "source": [
    "# find missing values\n",
    "df_true.isnull().sum()"
   ]
  },
  {
   "cell_type": "code",
   "execution_count": 15,
   "metadata": {
    "colab": {
     "base_uri": "https://localhost:8080/"
    },
    "executionInfo": {
     "elapsed": 5,
     "status": "ok",
     "timestamp": 1637865743378,
     "user": {
      "displayName": "Amanda Rozi Kurnia",
      "photoUrl": "https://lh3.googleusercontent.com/a-/AOh14GjlkhpB2BJxelwyiFkZ2a2fjsydZpep2m_zho8WqQ=s64",
      "userId": "08641560073051172744"
     },
     "user_tz": -420
    },
    "id": "loLQ7nEByWEc",
    "outputId": "66ce9066-b1e9-45ca-808c-d60356651925"
   },
   "outputs": [
    {
     "data": {
      "text/plain": [
       "title      0\n",
       "text       0\n",
       "subject    0\n",
       "date       0\n",
       "dtype: int64"
      ]
     },
     "execution_count": 15,
     "metadata": {},
     "output_type": "execute_result"
    }
   ],
   "source": [
    "df_fake.isnull().sum()"
   ]
  },
  {
   "cell_type": "markdown",
   "metadata": {
    "id": "_c3GFEVVyadt"
   },
   "source": [
    "Dari hasil tersebut, dapat dilihat bahwa tidak terdapat missing values pada dataset yang digunakan."
   ]
  },
  {
   "cell_type": "markdown",
   "metadata": {
    "id": "nj6dcVgi2nvJ"
   },
   "source": [
    "## **Konstruksi Data**"
   ]
  },
  {
   "cell_type": "markdown",
   "metadata": {
    "id": "BOiaoBN_8507"
   },
   "source": [
    "### **Feature Selection**"
   ]
  },
  {
   "cell_type": "markdown",
   "metadata": {
    "id": "dmy_65Ms8Yvg"
   },
   "source": [
    "Selanjutnya, melakukan convert huruf kapital menjadi huruf kecil pada kolom title dan text. Kemudian melakukan drop pada kolom subject dan date."
   ]
  },
  {
   "cell_type": "code",
   "execution_count": 18,
   "metadata": {},
   "outputs": [
    {
     "data": {
      "text/html": [
       "<div>\n",
       "<style scoped>\n",
       "    .dataframe tbody tr th:only-of-type {\n",
       "        vertical-align: middle;\n",
       "    }\n",
       "\n",
       "    .dataframe tbody tr th {\n",
       "        vertical-align: top;\n",
       "    }\n",
       "\n",
       "    .dataframe thead th {\n",
       "        text-align: right;\n",
       "    }\n",
       "</style>\n",
       "<table border=\"1\" class=\"dataframe\">\n",
       "  <thead>\n",
       "    <tr style=\"text-align: right;\">\n",
       "      <th></th>\n",
       "      <th>title</th>\n",
       "      <th>text</th>\n",
       "    </tr>\n",
       "  </thead>\n",
       "  <tbody>\n",
       "    <tr>\n",
       "      <th>0</th>\n",
       "      <td>As U.S. budget fight looms, Republicans flip t...</td>\n",
       "      <td>WASHINGTON (Reuters) - The head of a conservat...</td>\n",
       "    </tr>\n",
       "    <tr>\n",
       "      <th>1</th>\n",
       "      <td>U.S. military to accept transgender recruits o...</td>\n",
       "      <td>WASHINGTON (Reuters) - Transgender people will...</td>\n",
       "    </tr>\n",
       "    <tr>\n",
       "      <th>2</th>\n",
       "      <td>Senior U.S. Republican senator: 'Let Mr. Muell...</td>\n",
       "      <td>WASHINGTON (Reuters) - The special counsel inv...</td>\n",
       "    </tr>\n",
       "    <tr>\n",
       "      <th>3</th>\n",
       "      <td>FBI Russia probe helped by Australian diplomat...</td>\n",
       "      <td>WASHINGTON (Reuters) - Trump campaign adviser ...</td>\n",
       "    </tr>\n",
       "    <tr>\n",
       "      <th>4</th>\n",
       "      <td>Trump wants Postal Service to charge 'much mor...</td>\n",
       "      <td>SEATTLE/WASHINGTON (Reuters) - President Donal...</td>\n",
       "    </tr>\n",
       "  </tbody>\n",
       "</table>\n",
       "</div>"
      ],
      "text/plain": [
       "                                               title  \\\n",
       "0  As U.S. budget fight looms, Republicans flip t...   \n",
       "1  U.S. military to accept transgender recruits o...   \n",
       "2  Senior U.S. Republican senator: 'Let Mr. Muell...   \n",
       "3  FBI Russia probe helped by Australian diplomat...   \n",
       "4  Trump wants Postal Service to charge 'much mor...   \n",
       "\n",
       "                                                text  \n",
       "0  WASHINGTON (Reuters) - The head of a conservat...  \n",
       "1  WASHINGTON (Reuters) - Transgender people will...  \n",
       "2  WASHINGTON (Reuters) - The special counsel inv...  \n",
       "3  WASHINGTON (Reuters) - Trump campaign adviser ...  \n",
       "4  SEATTLE/WASHINGTON (Reuters) - President Donal...  "
      ]
     },
     "execution_count": 18,
     "metadata": {},
     "output_type": "execute_result"
    }
   ],
   "source": [
    "# Menghapus fitur date dan subject pada true df\n",
    "df_true_2 = df_true.drop(columns = [\"date\", \"subject\"])\n",
    "df_true_2.head()"
   ]
  },
  {
   "cell_type": "code",
   "execution_count": 19,
   "metadata": {},
   "outputs": [
    {
     "data": {
      "text/html": [
       "<div>\n",
       "<style scoped>\n",
       "    .dataframe tbody tr th:only-of-type {\n",
       "        vertical-align: middle;\n",
       "    }\n",
       "\n",
       "    .dataframe tbody tr th {\n",
       "        vertical-align: top;\n",
       "    }\n",
       "\n",
       "    .dataframe thead th {\n",
       "        text-align: right;\n",
       "    }\n",
       "</style>\n",
       "<table border=\"1\" class=\"dataframe\">\n",
       "  <thead>\n",
       "    <tr style=\"text-align: right;\">\n",
       "      <th></th>\n",
       "      <th>title</th>\n",
       "      <th>text</th>\n",
       "    </tr>\n",
       "  </thead>\n",
       "  <tbody>\n",
       "    <tr>\n",
       "      <th>0</th>\n",
       "      <td>Donald Trump Sends Out Embarrassing New Year’...</td>\n",
       "      <td>Donald Trump just couldn t wish all Americans ...</td>\n",
       "    </tr>\n",
       "    <tr>\n",
       "      <th>1</th>\n",
       "      <td>Drunk Bragging Trump Staffer Started Russian ...</td>\n",
       "      <td>House Intelligence Committee Chairman Devin Nu...</td>\n",
       "    </tr>\n",
       "    <tr>\n",
       "      <th>2</th>\n",
       "      <td>Sheriff David Clarke Becomes An Internet Joke...</td>\n",
       "      <td>On Friday, it was revealed that former Milwauk...</td>\n",
       "    </tr>\n",
       "    <tr>\n",
       "      <th>3</th>\n",
       "      <td>Trump Is So Obsessed He Even Has Obama’s Name...</td>\n",
       "      <td>On Christmas day, Donald Trump announced that ...</td>\n",
       "    </tr>\n",
       "    <tr>\n",
       "      <th>4</th>\n",
       "      <td>Pope Francis Just Called Out Donald Trump Dur...</td>\n",
       "      <td>Pope Francis used his annual Christmas Day mes...</td>\n",
       "    </tr>\n",
       "  </tbody>\n",
       "</table>\n",
       "</div>"
      ],
      "text/plain": [
       "                                               title  \\\n",
       "0   Donald Trump Sends Out Embarrassing New Year’...   \n",
       "1   Drunk Bragging Trump Staffer Started Russian ...   \n",
       "2   Sheriff David Clarke Becomes An Internet Joke...   \n",
       "3   Trump Is So Obsessed He Even Has Obama’s Name...   \n",
       "4   Pope Francis Just Called Out Donald Trump Dur...   \n",
       "\n",
       "                                                text  \n",
       "0  Donald Trump just couldn t wish all Americans ...  \n",
       "1  House Intelligence Committee Chairman Devin Nu...  \n",
       "2  On Friday, it was revealed that former Milwauk...  \n",
       "3  On Christmas day, Donald Trump announced that ...  \n",
       "4  Pope Francis used his annual Christmas Day mes...  "
      ]
     },
     "execution_count": 19,
     "metadata": {},
     "output_type": "execute_result"
    }
   ],
   "source": [
    "# Menghapus fitur date dan subject pada fake df\n",
    "df_fake_2 = df_fake.drop(columns = [\"date\", \"subject\"])\n",
    "df_fake_2.head()"
   ]
  },
  {
   "cell_type": "markdown",
   "metadata": {
    "id": "pHkj6ZHMzVlo"
   },
   "source": [
    "### **Menambahkan Fitur**\n",
    "Setelah load dataset, kita menambahkan kolom **status** pada kedua dataset, yaitu Fake dan True. Kolom status bernilai 1 untuk kelas Hoax dan bernilai 0 untuk kelas Fakta.\n",
    "\n"
   ]
  },
  {
   "cell_type": "code",
   "execution_count": 20,
   "metadata": {},
   "outputs": [
    {
     "data": {
      "text/html": [
       "<div>\n",
       "<style scoped>\n",
       "    .dataframe tbody tr th:only-of-type {\n",
       "        vertical-align: middle;\n",
       "    }\n",
       "\n",
       "    .dataframe tbody tr th {\n",
       "        vertical-align: top;\n",
       "    }\n",
       "\n",
       "    .dataframe thead th {\n",
       "        text-align: right;\n",
       "    }\n",
       "</style>\n",
       "<table border=\"1\" class=\"dataframe\">\n",
       "  <thead>\n",
       "    <tr style=\"text-align: right;\">\n",
       "      <th></th>\n",
       "      <th>IsFake</th>\n",
       "    </tr>\n",
       "  </thead>\n",
       "  <tbody>\n",
       "    <tr>\n",
       "      <th>0</th>\n",
       "      <td>0.0</td>\n",
       "    </tr>\n",
       "    <tr>\n",
       "      <th>1</th>\n",
       "      <td>0.0</td>\n",
       "    </tr>\n",
       "    <tr>\n",
       "      <th>2</th>\n",
       "      <td>0.0</td>\n",
       "    </tr>\n",
       "    <tr>\n",
       "      <th>3</th>\n",
       "      <td>0.0</td>\n",
       "    </tr>\n",
       "    <tr>\n",
       "      <th>4</th>\n",
       "      <td>0.0</td>\n",
       "    </tr>\n",
       "  </tbody>\n",
       "</table>\n",
       "</div>"
      ],
      "text/plain": [
       "   IsFake\n",
       "0     0.0\n",
       "1     0.0\n",
       "2     0.0\n",
       "3     0.0\n",
       "4     0.0"
      ]
     },
     "execution_count": 20,
     "metadata": {},
     "output_type": "execute_result"
    }
   ],
   "source": [
    "# create IsFake column for true df, value is zero\n",
    "zero_data = np.zeros(shape=(len(df_true_2),1))\n",
    "d_true = pd.DataFrame(zero_data, columns=[\"IsFake\"])\n",
    "d_true.head()"
   ]
  },
  {
   "cell_type": "code",
   "execution_count": 21,
   "metadata": {},
   "outputs": [
    {
     "data": {
      "text/html": [
       "<div>\n",
       "<style scoped>\n",
       "    .dataframe tbody tr th:only-of-type {\n",
       "        vertical-align: middle;\n",
       "    }\n",
       "\n",
       "    .dataframe tbody tr th {\n",
       "        vertical-align: top;\n",
       "    }\n",
       "\n",
       "    .dataframe thead th {\n",
       "        text-align: right;\n",
       "    }\n",
       "</style>\n",
       "<table border=\"1\" class=\"dataframe\">\n",
       "  <thead>\n",
       "    <tr style=\"text-align: right;\">\n",
       "      <th></th>\n",
       "      <th>IsFake</th>\n",
       "    </tr>\n",
       "  </thead>\n",
       "  <tbody>\n",
       "    <tr>\n",
       "      <th>0</th>\n",
       "      <td>1.0</td>\n",
       "    </tr>\n",
       "    <tr>\n",
       "      <th>1</th>\n",
       "      <td>1.0</td>\n",
       "    </tr>\n",
       "    <tr>\n",
       "      <th>2</th>\n",
       "      <td>1.0</td>\n",
       "    </tr>\n",
       "    <tr>\n",
       "      <th>3</th>\n",
       "      <td>1.0</td>\n",
       "    </tr>\n",
       "    <tr>\n",
       "      <th>4</th>\n",
       "      <td>1.0</td>\n",
       "    </tr>\n",
       "  </tbody>\n",
       "</table>\n",
       "</div>"
      ],
      "text/plain": [
       "   IsFake\n",
       "0     1.0\n",
       "1     1.0\n",
       "2     1.0\n",
       "3     1.0\n",
       "4     1.0"
      ]
     },
     "execution_count": 21,
     "metadata": {},
     "output_type": "execute_result"
    }
   ],
   "source": [
    "# create IsFake column for fake df, value is one\n",
    "ones_data = np.ones(shape=(len(df_fake_2),1))\n",
    "d_fake = pd.DataFrame(ones_data, columns=[\"IsFake\"])\n",
    "d_fake.head()"
   ]
  },
  {
   "cell_type": "code",
   "execution_count": 22,
   "metadata": {},
   "outputs": [
    {
     "data": {
      "text/html": [
       "<div>\n",
       "<style scoped>\n",
       "    .dataframe tbody tr th:only-of-type {\n",
       "        vertical-align: middle;\n",
       "    }\n",
       "\n",
       "    .dataframe tbody tr th {\n",
       "        vertical-align: top;\n",
       "    }\n",
       "\n",
       "    .dataframe thead th {\n",
       "        text-align: right;\n",
       "    }\n",
       "</style>\n",
       "<table border=\"1\" class=\"dataframe\">\n",
       "  <thead>\n",
       "    <tr style=\"text-align: right;\">\n",
       "      <th></th>\n",
       "      <th>title</th>\n",
       "      <th>text</th>\n",
       "      <th>IsFake</th>\n",
       "    </tr>\n",
       "  </thead>\n",
       "  <tbody>\n",
       "    <tr>\n",
       "      <th>0</th>\n",
       "      <td>As U.S. budget fight looms, Republicans flip t...</td>\n",
       "      <td>WASHINGTON (Reuters) - The head of a conservat...</td>\n",
       "      <td>0.0</td>\n",
       "    </tr>\n",
       "    <tr>\n",
       "      <th>1</th>\n",
       "      <td>U.S. military to accept transgender recruits o...</td>\n",
       "      <td>WASHINGTON (Reuters) - Transgender people will...</td>\n",
       "      <td>0.0</td>\n",
       "    </tr>\n",
       "    <tr>\n",
       "      <th>2</th>\n",
       "      <td>Senior U.S. Republican senator: 'Let Mr. Muell...</td>\n",
       "      <td>WASHINGTON (Reuters) - The special counsel inv...</td>\n",
       "      <td>0.0</td>\n",
       "    </tr>\n",
       "    <tr>\n",
       "      <th>3</th>\n",
       "      <td>FBI Russia probe helped by Australian diplomat...</td>\n",
       "      <td>WASHINGTON (Reuters) - Trump campaign adviser ...</td>\n",
       "      <td>0.0</td>\n",
       "    </tr>\n",
       "    <tr>\n",
       "      <th>4</th>\n",
       "      <td>Trump wants Postal Service to charge 'much mor...</td>\n",
       "      <td>SEATTLE/WASHINGTON (Reuters) - President Donal...</td>\n",
       "      <td>0.0</td>\n",
       "    </tr>\n",
       "  </tbody>\n",
       "</table>\n",
       "</div>"
      ],
      "text/plain": [
       "                                               title  \\\n",
       "0  As U.S. budget fight looms, Republicans flip t...   \n",
       "1  U.S. military to accept transgender recruits o...   \n",
       "2  Senior U.S. Republican senator: 'Let Mr. Muell...   \n",
       "3  FBI Russia probe helped by Australian diplomat...   \n",
       "4  Trump wants Postal Service to charge 'much mor...   \n",
       "\n",
       "                                                text  IsFake  \n",
       "0  WASHINGTON (Reuters) - The head of a conservat...     0.0  \n",
       "1  WASHINGTON (Reuters) - Transgender people will...     0.0  \n",
       "2  WASHINGTON (Reuters) - The special counsel inv...     0.0  \n",
       "3  WASHINGTON (Reuters) - Trump campaign adviser ...     0.0  \n",
       "4  SEATTLE/WASHINGTON (Reuters) - President Donal...     0.0  "
      ]
     },
     "execution_count": 22,
     "metadata": {},
     "output_type": "execute_result"
    }
   ],
   "source": [
    "# Combine IsFake column with df_true_2\n",
    "df_true_3 = pd.concat([df_true_2, d_true], axis=1)\n",
    "df_true_3.head()"
   ]
  },
  {
   "cell_type": "code",
   "execution_count": 23,
   "metadata": {},
   "outputs": [
    {
     "data": {
      "text/html": [
       "<div>\n",
       "<style scoped>\n",
       "    .dataframe tbody tr th:only-of-type {\n",
       "        vertical-align: middle;\n",
       "    }\n",
       "\n",
       "    .dataframe tbody tr th {\n",
       "        vertical-align: top;\n",
       "    }\n",
       "\n",
       "    .dataframe thead th {\n",
       "        text-align: right;\n",
       "    }\n",
       "</style>\n",
       "<table border=\"1\" class=\"dataframe\">\n",
       "  <thead>\n",
       "    <tr style=\"text-align: right;\">\n",
       "      <th></th>\n",
       "      <th>title</th>\n",
       "      <th>text</th>\n",
       "      <th>IsFake</th>\n",
       "    </tr>\n",
       "  </thead>\n",
       "  <tbody>\n",
       "    <tr>\n",
       "      <th>0</th>\n",
       "      <td>Donald Trump Sends Out Embarrassing New Year’...</td>\n",
       "      <td>Donald Trump just couldn t wish all Americans ...</td>\n",
       "      <td>1.0</td>\n",
       "    </tr>\n",
       "    <tr>\n",
       "      <th>1</th>\n",
       "      <td>Drunk Bragging Trump Staffer Started Russian ...</td>\n",
       "      <td>House Intelligence Committee Chairman Devin Nu...</td>\n",
       "      <td>1.0</td>\n",
       "    </tr>\n",
       "    <tr>\n",
       "      <th>2</th>\n",
       "      <td>Sheriff David Clarke Becomes An Internet Joke...</td>\n",
       "      <td>On Friday, it was revealed that former Milwauk...</td>\n",
       "      <td>1.0</td>\n",
       "    </tr>\n",
       "    <tr>\n",
       "      <th>3</th>\n",
       "      <td>Trump Is So Obsessed He Even Has Obama’s Name...</td>\n",
       "      <td>On Christmas day, Donald Trump announced that ...</td>\n",
       "      <td>1.0</td>\n",
       "    </tr>\n",
       "    <tr>\n",
       "      <th>4</th>\n",
       "      <td>Pope Francis Just Called Out Donald Trump Dur...</td>\n",
       "      <td>Pope Francis used his annual Christmas Day mes...</td>\n",
       "      <td>1.0</td>\n",
       "    </tr>\n",
       "  </tbody>\n",
       "</table>\n",
       "</div>"
      ],
      "text/plain": [
       "                                               title  \\\n",
       "0   Donald Trump Sends Out Embarrassing New Year’...   \n",
       "1   Drunk Bragging Trump Staffer Started Russian ...   \n",
       "2   Sheriff David Clarke Becomes An Internet Joke...   \n",
       "3   Trump Is So Obsessed He Even Has Obama’s Name...   \n",
       "4   Pope Francis Just Called Out Donald Trump Dur...   \n",
       "\n",
       "                                                text  IsFake  \n",
       "0  Donald Trump just couldn t wish all Americans ...     1.0  \n",
       "1  House Intelligence Committee Chairman Devin Nu...     1.0  \n",
       "2  On Friday, it was revealed that former Milwauk...     1.0  \n",
       "3  On Christmas day, Donald Trump announced that ...     1.0  \n",
       "4  Pope Francis used his annual Christmas Day mes...     1.0  "
      ]
     },
     "execution_count": 23,
     "metadata": {},
     "output_type": "execute_result"
    }
   ],
   "source": [
    "# Combine IsFake column with df_fake_2\n",
    "df_fake_3 = pd.concat([df_fake_2, d_fake], axis=1)\n",
    "df_fake_3.head()"
   ]
  },
  {
   "cell_type": "code",
   "execution_count": 24,
   "metadata": {},
   "outputs": [
    {
     "data": {
      "text/plain": [
       "Factbox: Trump fills top jobs for his administration                                14\n",
       "Factbox: Contenders for senior jobs in Trump's administration                        8\n",
       "Highlights: The Trump presidency on April 13 at 9:30 P.M. EDT/0130 GMT on Friday     8\n",
       "Factbox: International reaction to arrest of Reuters reporters in Myanmar            6\n",
       "Highlights: The Trump presidency on April 21 at 6:12 p.m. EDT/2212 GMT               5\n",
       "                                                                                    ..\n",
       "Obama, on last trip to Europe, warns against nationalism, populism                   1\n",
       "A post-Trump SEC could shake up current policy                                       1\n",
       "U.S. panel urges probe on whether China weakening U.S. militarily                    1\n",
       "Trump team weighs 'infrastructure bank' to fund projects: Trump adviser              1\n",
       "Indonesia to buy $1.14 billion worth of Russian jets                                 1\n",
       "Name: title, Length: 20826, dtype: int64"
      ]
     },
     "execution_count": 24,
     "metadata": {},
     "output_type": "execute_result"
    }
   ],
   "source": [
    "# Menghitung jumlah headlines pada true df\n",
    "df_true_3[\"title\"].value_counts()"
   ]
  },
  {
   "cell_type": "code",
   "execution_count": 25,
   "metadata": {},
   "outputs": [
    {
     "data": {
      "text/plain": [
       "MEDIA IGNORES Time That Bill Clinton FIRED His FBI Director On Day Before Vince Foster Was Found Dead                                                                  6\n",
       "ELEMENTARY SCHOOL PLANS ‘BLACKS ONLY’ FIELD TRIP TO COLLEGE FOR THIRD GRADERS                                                                                          4\n",
       "FORMER FBI ASST DIRECTOR: “Jim Comey ‘Danced With The Devil’…I’m Glad He’s Gone” [VIDEO]                                                                               4\n",
       "AN INSIDE LOOK AT OBAMA’S 5-STAR SUMMER VACATION RETREAT: Meanwhile…62% Of Americans Won’t Be Taking A Vacation This Summer                                            3\n",
       "GARY JOHNSON: Meet The “Creepy” Pro-Amnesty, Anti-Gun, Pro-TPP, Pro-Abortion, Democrat Party Operative And His Anti-Gun Rights, Friend Of Clinton’s VP Pick [VIDEO]    3\n",
       "                                                                                                                                                                      ..\n",
       " Iowa Legislator Leaves Republican Party Over Trump’s Racism                                                                                                           1\n",
       " Mark Kirk Becomes First Republican To Un-Endorse Donald Trump (VIDEO)                                                                                                 1\n",
       " Women Will Get More Elected Representation If Clinton Becomes President                                                                                               1\n",
       " Meryl Streep Impersonated Donald Trump, And It Was Absolutely PERFECT (VIDEO/TWEETS)                                                                                  1\n",
       "A Troubled King: Chicago’s Rahm Emanuel Desperate to Save His 2020 Presidential Run                                                                                    1\n",
       "Name: title, Length: 17903, dtype: int64"
      ]
     },
     "execution_count": 25,
     "metadata": {},
     "output_type": "execute_result"
    }
   ],
   "source": [
    "# Menghitung jumlah headlines pada fake df\n",
    "df_fake_3[\"title\"].value_counts()"
   ]
  },
  {
   "cell_type": "markdown",
   "metadata": {},
   "source": [
    "### **Menggabungkan True dan Fake**"
   ]
  },
  {
   "cell_type": "code",
   "execution_count": 26,
   "metadata": {
    "colab": {
     "base_uri": "https://localhost:8080/",
     "height": 423
    },
    "executionInfo": {
     "elapsed": 500,
     "status": "ok",
     "timestamp": 1637865745905,
     "user": {
      "displayName": "Amanda Rozi Kurnia",
      "photoUrl": "https://lh3.googleusercontent.com/a-/AOh14GjlkhpB2BJxelwyiFkZ2a2fjsydZpep2m_zho8WqQ=s64",
      "userId": "08641560073051172744"
     },
     "user_tz": -420
    },
    "id": "317-Nlxx0RK8",
    "outputId": "4e8dd655-3864-47b6-fc75-ade977251cba"
   },
   "outputs": [
    {
     "data": {
      "text/html": [
       "<div>\n",
       "<style scoped>\n",
       "    .dataframe tbody tr th:only-of-type {\n",
       "        vertical-align: middle;\n",
       "    }\n",
       "\n",
       "    .dataframe tbody tr th {\n",
       "        vertical-align: top;\n",
       "    }\n",
       "\n",
       "    .dataframe thead th {\n",
       "        text-align: right;\n",
       "    }\n",
       "</style>\n",
       "<table border=\"1\" class=\"dataframe\">\n",
       "  <thead>\n",
       "    <tr style=\"text-align: right;\">\n",
       "      <th></th>\n",
       "      <th>title</th>\n",
       "      <th>text</th>\n",
       "      <th>IsFake</th>\n",
       "    </tr>\n",
       "  </thead>\n",
       "  <tbody>\n",
       "    <tr>\n",
       "      <th>0</th>\n",
       "      <td>As U.S. budget fight looms, Republicans flip t...</td>\n",
       "      <td>WASHINGTON (Reuters) - The head of a conservat...</td>\n",
       "      <td>0.0</td>\n",
       "    </tr>\n",
       "    <tr>\n",
       "      <th>1</th>\n",
       "      <td>U.S. military to accept transgender recruits o...</td>\n",
       "      <td>WASHINGTON (Reuters) - Transgender people will...</td>\n",
       "      <td>0.0</td>\n",
       "    </tr>\n",
       "    <tr>\n",
       "      <th>2</th>\n",
       "      <td>Senior U.S. Republican senator: 'Let Mr. Muell...</td>\n",
       "      <td>WASHINGTON (Reuters) - The special counsel inv...</td>\n",
       "      <td>0.0</td>\n",
       "    </tr>\n",
       "    <tr>\n",
       "      <th>3</th>\n",
       "      <td>FBI Russia probe helped by Australian diplomat...</td>\n",
       "      <td>WASHINGTON (Reuters) - Trump campaign adviser ...</td>\n",
       "      <td>0.0</td>\n",
       "    </tr>\n",
       "    <tr>\n",
       "      <th>4</th>\n",
       "      <td>Trump wants Postal Service to charge 'much mor...</td>\n",
       "      <td>SEATTLE/WASHINGTON (Reuters) - President Donal...</td>\n",
       "      <td>0.0</td>\n",
       "    </tr>\n",
       "  </tbody>\n",
       "</table>\n",
       "</div>"
      ],
      "text/plain": [
       "                                               title  \\\n",
       "0  As U.S. budget fight looms, Republicans flip t...   \n",
       "1  U.S. military to accept transgender recruits o...   \n",
       "2  Senior U.S. Republican senator: 'Let Mr. Muell...   \n",
       "3  FBI Russia probe helped by Australian diplomat...   \n",
       "4  Trump wants Postal Service to charge 'much mor...   \n",
       "\n",
       "                                                text  IsFake  \n",
       "0  WASHINGTON (Reuters) - The head of a conservat...     0.0  \n",
       "1  WASHINGTON (Reuters) - Transgender people will...     0.0  \n",
       "2  WASHINGTON (Reuters) - The special counsel inv...     0.0  \n",
       "3  WASHINGTON (Reuters) - Trump campaign adviser ...     0.0  \n",
       "4  SEATTLE/WASHINGTON (Reuters) - President Donal...     0.0  "
      ]
     },
     "execution_count": 26,
     "metadata": {},
     "output_type": "execute_result"
    }
   ],
   "source": [
    "# combine both as one dataframe called df\n",
    "df = pd.concat([df_true_3, df_fake_3], axis=0)\n",
    "df.head()"
   ]
  },
  {
   "cell_type": "code",
   "execution_count": 27,
   "metadata": {},
   "outputs": [
    {
     "data": {
      "text/plain": [
       "1.0    23481\n",
       "0.0    21417\n",
       "Name: IsFake, dtype: int64"
      ]
     },
     "execution_count": 27,
     "metadata": {},
     "output_type": "execute_result"
    }
   ],
   "source": [
    "# Menghitung jumlah baris yang bernilai true (0) dan fake (1)\n",
    "df[\"IsFake\"].value_counts()"
   ]
  },
  {
   "cell_type": "markdown",
   "metadata": {},
   "source": [
    "### **Menghapus data NaN**"
   ]
  },
  {
   "cell_type": "code",
   "execution_count": 28,
   "metadata": {
    "scrolled": true
   },
   "outputs": [],
   "source": [
    "# Menghapus data NaN\n",
    "df.loc[df['text'] == \" \", 'text']= np.nan\n",
    "df.loc[df['text'] == \"  \", 'text']= np.nan"
   ]
  },
  {
   "cell_type": "code",
   "execution_count": 29,
   "metadata": {},
   "outputs": [
    {
     "data": {
      "text/html": [
       "<div>\n",
       "<style scoped>\n",
       "    .dataframe tbody tr th:only-of-type {\n",
       "        vertical-align: middle;\n",
       "    }\n",
       "\n",
       "    .dataframe tbody tr th {\n",
       "        vertical-align: top;\n",
       "    }\n",
       "\n",
       "    .dataframe thead th {\n",
       "        text-align: right;\n",
       "    }\n",
       "</style>\n",
       "<table border=\"1\" class=\"dataframe\">\n",
       "  <thead>\n",
       "    <tr style=\"text-align: right;\">\n",
       "      <th></th>\n",
       "      <th>title</th>\n",
       "      <th>text</th>\n",
       "      <th>IsFake</th>\n",
       "    </tr>\n",
       "  </thead>\n",
       "  <tbody>\n",
       "    <tr>\n",
       "      <th>0</th>\n",
       "      <td>As U.S. budget fight looms, Republicans flip t...</td>\n",
       "      <td>WASHINGTON (Reuters) - The head of a conservat...</td>\n",
       "      <td>0.0</td>\n",
       "    </tr>\n",
       "    <tr>\n",
       "      <th>1</th>\n",
       "      <td>U.S. military to accept transgender recruits o...</td>\n",
       "      <td>WASHINGTON (Reuters) - Transgender people will...</td>\n",
       "      <td>0.0</td>\n",
       "    </tr>\n",
       "    <tr>\n",
       "      <th>2</th>\n",
       "      <td>Senior U.S. Republican senator: 'Let Mr. Muell...</td>\n",
       "      <td>WASHINGTON (Reuters) - The special counsel inv...</td>\n",
       "      <td>0.0</td>\n",
       "    </tr>\n",
       "    <tr>\n",
       "      <th>3</th>\n",
       "      <td>FBI Russia probe helped by Australian diplomat...</td>\n",
       "      <td>WASHINGTON (Reuters) - Trump campaign adviser ...</td>\n",
       "      <td>0.0</td>\n",
       "    </tr>\n",
       "    <tr>\n",
       "      <th>4</th>\n",
       "      <td>Trump wants Postal Service to charge 'much mor...</td>\n",
       "      <td>SEATTLE/WASHINGTON (Reuters) - President Donal...</td>\n",
       "      <td>0.0</td>\n",
       "    </tr>\n",
       "    <tr>\n",
       "      <th>...</th>\n",
       "      <td>...</td>\n",
       "      <td>...</td>\n",
       "      <td>...</td>\n",
       "    </tr>\n",
       "    <tr>\n",
       "      <th>23476</th>\n",
       "      <td>McPain: John McCain Furious That Iran Treated ...</td>\n",
       "      <td>21st Century Wire says As 21WIRE reported earl...</td>\n",
       "      <td>1.0</td>\n",
       "    </tr>\n",
       "    <tr>\n",
       "      <th>23477</th>\n",
       "      <td>JUSTICE? Yahoo Settles E-mail Privacy Class-ac...</td>\n",
       "      <td>21st Century Wire says It s a familiar theme. ...</td>\n",
       "      <td>1.0</td>\n",
       "    </tr>\n",
       "    <tr>\n",
       "      <th>23478</th>\n",
       "      <td>Sunnistan: US and Allied ‘Safe Zone’ Plan to T...</td>\n",
       "      <td>Patrick Henningsen  21st Century WireRemember ...</td>\n",
       "      <td>1.0</td>\n",
       "    </tr>\n",
       "    <tr>\n",
       "      <th>23479</th>\n",
       "      <td>How to Blow $700 Million: Al Jazeera America F...</td>\n",
       "      <td>21st Century Wire says Al Jazeera America will...</td>\n",
       "      <td>1.0</td>\n",
       "    </tr>\n",
       "    <tr>\n",
       "      <th>23480</th>\n",
       "      <td>10 U.S. Navy Sailors Held by Iranian Military ...</td>\n",
       "      <td>21st Century Wire says As 21WIRE predicted in ...</td>\n",
       "      <td>1.0</td>\n",
       "    </tr>\n",
       "  </tbody>\n",
       "</table>\n",
       "<p>44267 rows × 3 columns</p>\n",
       "</div>"
      ],
      "text/plain": [
       "                                                   title  \\\n",
       "0      As U.S. budget fight looms, Republicans flip t...   \n",
       "1      U.S. military to accept transgender recruits o...   \n",
       "2      Senior U.S. Republican senator: 'Let Mr. Muell...   \n",
       "3      FBI Russia probe helped by Australian diplomat...   \n",
       "4      Trump wants Postal Service to charge 'much mor...   \n",
       "...                                                  ...   \n",
       "23476  McPain: John McCain Furious That Iran Treated ...   \n",
       "23477  JUSTICE? Yahoo Settles E-mail Privacy Class-ac...   \n",
       "23478  Sunnistan: US and Allied ‘Safe Zone’ Plan to T...   \n",
       "23479  How to Blow $700 Million: Al Jazeera America F...   \n",
       "23480  10 U.S. Navy Sailors Held by Iranian Military ...   \n",
       "\n",
       "                                                    text  IsFake  \n",
       "0      WASHINGTON (Reuters) - The head of a conservat...     0.0  \n",
       "1      WASHINGTON (Reuters) - Transgender people will...     0.0  \n",
       "2      WASHINGTON (Reuters) - The special counsel inv...     0.0  \n",
       "3      WASHINGTON (Reuters) - Trump campaign adviser ...     0.0  \n",
       "4      SEATTLE/WASHINGTON (Reuters) - President Donal...     0.0  \n",
       "...                                                  ...     ...  \n",
       "23476  21st Century Wire says As 21WIRE reported earl...     1.0  \n",
       "23477  21st Century Wire says It s a familiar theme. ...     1.0  \n",
       "23478  Patrick Henningsen  21st Century WireRemember ...     1.0  \n",
       "23479  21st Century Wire says Al Jazeera America will...     1.0  \n",
       "23480  21st Century Wire says As 21WIRE predicted in ...     1.0  \n",
       "\n",
       "[44267 rows x 3 columns]"
      ]
     },
     "execution_count": 29,
     "metadata": {},
     "output_type": "execute_result"
    }
   ],
   "source": [
    "df_2 = df.dropna()\n",
    "df_2"
   ]
  },
  {
   "cell_type": "code",
   "execution_count": 30,
   "metadata": {},
   "outputs": [
    {
     "data": {
      "text/plain": [
       "1.0    22851\n",
       "0.0    21416\n",
       "Name: IsFake, dtype: int64"
      ]
     },
     "execution_count": 30,
     "metadata": {},
     "output_type": "execute_result"
    }
   ],
   "source": [
    "df_2[\"IsFake\"].value_counts()"
   ]
  },
  {
   "cell_type": "code",
   "execution_count": 31,
   "metadata": {},
   "outputs": [
    {
     "data": {
      "text/plain": [
       "(Reuters) - Highlights for U.S. President Donald Trump’s administration on Thursday: The United States drops a massive GBU-43 bomb, the largest non-nuclear bomb it has ever used in combat, in Afghanistan against a series of caves used by Islamic State militants, the Pentagon says. Trump says Pyongyang is a problem that “will be taken care of” amid speculation that North Korea is on the verge of a sixth nuclear test. Military force cannot resolve tension over North Korea, China warns, while an influential Chinese newspaper urges Pyongyang to halt its nuclear program in exchange for Beijing’s protection. The Trump administration is focusing its North Korea strategy on tougher economic sanctions, possibly including intercepting cargo ships and punishing Chinese banks doing business with Pyongyang, U.S. officials say. Trump says “things will work out fine” between the United States and Russia, a day after declaring U.S.-Russian relations may be at an all-time low. Trump signals he could be moving closer to the mainstream on monetary policy, saying he has not ruled out reappointment of Janet Yellen as Federal Reserve chair as he considers his choices for the U.S. central bank. [nL1N1HL14B] Trump signs a resolution that will allow U.S. states to restrict how federal funds for contraception and reproductive health are spent, a move cheered by anti-abortion campaigners. Democratic Senator Chris Van Hollen presses Deutsche Bank to release information about issues including Trump’s debt and any bank meetings with Trump administration officials, saying he has “great concern” about possible conflicts of interest. EXPORT-IMPORT BANK Trump’s office says he plans to revive the hobbled Export-Import Bank of the United States, a victory for American manufacturers such as Boeing Co and General Electric Co that have overseas customers that use the agency’s government-backed loans to purchase their products. Top Wall Street bankers say they are having positive discussions about financial regulation in Washington, and downplay the idea U.S. policymakers may force their institutions to split up. The United States is pushing for trade to be a key issue in top-level economic talks with Japan, a source says, an unwelcome development for Tokyo, which is seeking to fend off U.S. pressure to reduce the bilateral trade imbalance. Trump’s administration has focused on one group of illegal immigrants more than others: women with children, according to eight Department of Homeland Security officials interviewed by Reuters about agency planning.                                                                                                                                                                                                                                                                                                                                                                                                                                                                                                                                                                                                                                                                                                                                                                                                                                                                                                                                                                                                                                                                                                                                                                                                                                                                                                                                                                                                                                                                                                                                                                                                                                                                                                                                                                                                                                                                                                                                                                                                                                                                                                                                                                                                                                                                                                                                                                                                                                                                                                                                                                                                                                                                                                                                                                                                                                                                                                                                                                                                                                                                                                                                                                                                                                                                                                                           8\n",
       "(Reuters) - Highlights for U.S. President Donald Trump’s administration on Friday: Trump promises a big announcement about tax reform next week and orders an administration review of Obama-era tax rules written to discourage U.S. companies from relocating overseas to cut their tax bills. Trump tells the Treasury Department to examine two powers given to regulators to police large financial companies following the 2008 financial crisis. South Korea says it is on heightened alert ahead of another important anniversary in North Korea, with a large concentration of military hardware amassed on both sides of the border amid concerns about a new nuclear test by Pyongyang. Trump, striving to make good on a top campaign promise, is pushing fellow Republicans who control Congress to pass revamped healthcare legislation but the same intraparty squabbling that torpedoed it last month could do it again. Defense Secretary Jim Mattis says Syria has dispersed its warplanes in recent days and that it retains chemical weapons, an issue he says will have to be taken up diplomatically. The Department of Justice threatens to cut off funding to California as well as eight cities and counties across the United States, escalating a Trump administration crackdown on so-called “sanctuary cities” that do not cooperate with federal immigration authorities. The United States will not make an exception for American companies, including oil major Exxon Mobil Corp, seeking to drill in areas prohibited by U.S. sanctions on Russia, Treasury Secretary Steven Mnuchin says.  Trump and his fellow Republicans who control Congress face their first major budget test next week, with the threat of a government shutdown potentially hinging on his proposed Mexican border wall as well as Obamacare funding. The House of Representatives Intelligence Committee says it has invited FBI, National Security Agency and Obama administration officials to testify as it restarts its investigation into alleged Russian meddling in the 2016 U.S. election. U.N. Secretary-General Antonio Guterres meets with Trump at the White House for the first time since both took office earlier this year and amid a U.S. push to cut funding to the world body and its agencies. The United States has offered to help fund Mexico’s efforts to eradicate opium poppies, a U.S. official says, as Mexican heroin output increased again last year.                                                                                                                                                                                                                                                                                                                                                                                                                                                                                                                                                                                                                                                                                                                                                                                                                                                                                                                                                                                                                                                                                                                                                                                                                                                                                                                                                                                                                                                                                                                                                                                                                                                                                                                                                                                                                                                                                                                                                                                                                                                                                                                                                                                                                                                                                                                                                                                                                                                                                                                                                                                                                                                                                                                                                                                                                                                                                                                                                                                                                                                                                                                                                                                                                                                                                                                                                                                                                                                                                         5\n",
       "(Reuters) - Highlights of the day for U.S. President Donald Trump’s administration on Friday: Trump backs a decision by his former national security adviser, Michael Flynn, to seek immunity in congressional investigations of possible ties between his campaign and Russia, but there is no immediate sign the request will be granted.  The Trump administration slams China on a range of trade issues from its chronic industrial overcapacity to forced technology transfers and longstanding bans on U.S. beef and electronic payment services. Beijing seeks to play down tensions with the United States and put on a positive face ahead of President Xi Jinping’s first meeting with Trump next week. Senate Democrats step closer to having enough votes to block a confirmation vote on Trump’s Supreme Court nominee with three more Democratic senators coming out against Neil Gorsuch for the lifetime job as a justice. Trump seeks to push his plan for fair trade and more manufacturing jobs back to the top of his agenda by ordering a study into the causes of U.S. trade deficits and a clampdown on import duty evasion. Trump has neither a clear White House tax plan nor adequate staff yet to see through a planned tax overhaul, according to interviews with people in the administration, in Congress and among U.S. tax experts. Democrats are trying to counter Trump’s boldest move yet to defang the U.S. consumer financial watchdog, with 40 current and former lawmakers defending the agency in court. The U.S. Environmental Protection Agency’s scientific integrity watchdog is reviewing whether EPA chief Scott Pruitt violated the agency’s policies when he said in a television interview he does not believe carbon dioxide is driving global climate change, according to an email seen by Reuters. Trump will seek to rebuild the U.S. relationship with Egypt at a meeting on Monday with Egyptian President Abdel Fattah al-Sisi focused on security issues and military aid, a senior White House official says. Trump will host Jordan’s King Abdullah at the White House next week to discuss the fight against Islamic State militants, the Syria crisis and advancing peace between Israelis and Palestinians, the White House says. A U.S. judge approves a $25 million settlement to resolve a class action lawsuit that claimed fraud against Trump and his Trump University real estate seminars.                                                                                                                                                                                                                                                                                                                                                                                                                                                                                                                                                                                                                                                                                                                                                                                                                                                                                                                                                                                                                                                                                                                                                                                                                                                                                                                                                                                                                                                                                                                                                                                                                                                                                                                                                                                                                                                                                                                                                                                                                                                                                                                                                                                                                                                                                                                                                                                                                                                                                                                                                                                                                                                                                                                                                                                                                                                                                                                                                                                                                                                                                                                                                                                                                                                                                                                                                                                                                                                                                                                       5\n",
       "Enjoy:                                                                                                                                                                                                                                                                                                                                                                                                                                                                                                                                                                                                                                                                                                                                                                                                                                                                                                                                                                                                                                                                                                                                                                                                                                                                                                                                                                                                                                                                                                                                                                                                                                                                                                                                                                                                                                                                                                                                                                                                                                                                                                                                                                                                                                                                                                                                                                                                                                                                                                                                                                                                                                                                                                                                                                                                                                                                                                                                                                                                                                                                                                                                                                                                                                                                                                                                                                                                                                                                                                                                                                                                                                                                                                                                                                                                                                                                                                                                                                                                                                                                                                                                                                                                                                                                                                                                                                                                                                                                                                                                                                                                                                                                                                                                                                                                                                                                                                                                                                                                                                                                                                                                                                                                                                                                                                                                                                                                                                                                                                                                                                                                                                                                                                                                                                                                                                                                                                                                                                                   4\n",
       "On September 15, Hillary  apparently  held a rally in the Old Student Recreational Center at the University of North Carolina in Greensboro, NC. This was her first public appearance since she convulsed and had to be lifted into her van following the 9-11 memorial in NYC. Hillary s campaign was quick to blame the heat until they discovered conservative websites were able to quickly access the weather and determine that it was a balmy 74 degrees in NYC! Hillary was quickly whisked away to her daughter Chelsea s apartment following her  incident,  passing more than one hospital on the way to  recuperate.  Did Hillary recover from her  incident  or was this rally faked to make it look like she did?Here is the first video of Hillary s Greensboro, NC rally that was causing viewers to ask  what the heck are those cameras in Hillary s  audience  pointing at?  If you look closely, it sure isn t Hillary!Watch this video first, and then the video below to get a closer analysis of what appears to be a phony rally for Hillary at https://twitter.com/WDFx2EU5/status/777263623915745280This stunning video takes the viewer through and shows step-by-step where the audience is faked:Here is the actual video from C-Span to prove nothing was doctored in the videos above. Holy moly!                                                                                                                                                                                                                                                                                                                                                                                                                                                                                                                                                                                                                                                                                                                                                                                                                                                                                                                                                                                                                                                                                                                                                                                                                                                                                                                                                                                                                                                                                                                                                                                                                                                                                                                                                                                                                                                                                                                                                                                                                                                                                                                                                                                                                                                                                                                                                                                                                                                                                                                                                                                                                                                                                                                                                                                                                                                                                                                                                                                                                                                                                                                                                                                                                                                                                                                                                                                                                                                                                                                                                                                                                                                                                                                                                                                                                                                                                                                                                                                                                                                                                                                                                                                                                                                                                                                                                                                                                                                                                                                                                                                                                                                         4\n",
       "                                                                                                                                                                                                                                                                                                                                                                                                                                                                                                                                                                                                                                                                                                                                                                                                                                                                                                                                                                                                                                                                                                                                                                                                                                                                                                                                                                                                                                                                                                                                                                                                                                                                                                                                                                                                                                                                                                                                                                                                                                                                                                                                                                                                                                                                                                                                                                                                                                                                                                                                                                                                                                                                                                                                                                                                                                                                                                                                                                                                                                                                                                                                                                                                                                                                                                                                                                                                                                                                                                                                                                                                                                                                                                                                                                                                                                                                                                                                                                                                                                                                                                                                                                                                                                                                                                                                                                                                                                                                                                                                                                                                                                                                                                                                                                                                                                                                                                                                                                                                                                                                                                                                                                                                                                                                                                                                                                                                                                                                                                                                                                                                                                                                                                                                                                                                                                                                                                                                                                                        ..\n",
       "BEIRUT (Reuters) - Lebanon s cabinet will meet on Tuesday for the first time since the country entered a political crisis a month ago when Prime Minister Saad al-Hariri offered his resignation in a broadcast from Saudi Arabia.  The cabinet s media office said the session would begin at noon at the presidential palace. The meeting is expected to address Hariri s resignation which thrust Lebanon back into a regional tussle between Riyadh and its main regional foe, Iran.                                                                                                                                                                                                                                                                                                                                                                                                                                                                                                                                                                                                                                                                                                                                                                                                                                                                                                                                                                                                                                                                                                                                                                                                                                                                                                                                                                                                                                                                                                                                                                                                                                                                                                                                                                                                                                                                                                                                                                                                                                                                                                                                                                                                                                                                                                                                                                                                                                                                                                                                                                                                                                                                                                                                                                                                                                                                                                                                                                                                                                                                                                                                                                                                                                                                                                                                                                                                                                                                                                                                                                                                                                                                                                                                                                                                                                                                                                                                                                                                                                                                                                                                                                                                                                                                                                                                                                                                                                                                                                                                                                                                                                                                                                                                                                                                                                                                                                                                                                                                                                                                                                                                                                                                                                                                                                                                                                                                                                                                                                 1\n",
       "JOHANNESBURG (Reuters) - South African Deputy President Cyril Ramaphosa has received the most nominations for leader of the ruling African National Congress (ANC) ahead of a party vote this month, voting data from the country s nine provinces show. Ramaphosa is one of two frontrunners in a closely watched contest to take over from President Jacob Zuma as ANC leader at a party conference starting on Dec. 16. Whoever becomes ANC leader will most likely be the next president of South Africa, owing to the ruling party s electoral dominance. Ramaphosa received 1,862 nominations by ANC branches, whereas his main rival for ANC leader, former cabinet minister Nkosazana Dlamini-Zuma, received 1,309 endorsements. Reuters compiled the number of nominations for each candidate based on voting data released by provincial ANC structures. ANC officials in the provinces of Limpopo and KwaZulu-Natal were the last to release their nominations totals on Monday. Ramaphosa, a former trade union leader and millionaire businessman, is seen as more market-friendly than Dlamini-Zuma, who was previously married to Zuma. Signs that Ramaphosa has been doing well in the nominations by ANC branches have boosted the rand currency in recent weeks. However, Dlamini-Zuma could still win the race for ANC leader as analysts say the outcome in December could be swayed by inducements and pressure on conference delegates.  Delegates are not bound to vote for the candidate that was nominated by their ANC branch.                                                                                                                                                                                                                                                                                                                                                                                                                                                                                                                                                                                                                                                                                                                                                                                                                                                                                                                                                                                                                                                                                                                                                                                                                                                                                                                                                                                                                                                                                                                                                                                                                                                                                                                                                                                                                                                                                                                                                                                                                                                                                                                                                                                                                                                                                                                                                                                                                                                                                                                                                                                                                                                                                                                                                                                                                                                                                                                                                                                                                                                                                                                                                                                                                                                                                                                                                                                                                                                                                                                                                                                                                                                                                                                                                                                                                                                                                                                                                                                                                                                                                                                                                                                                                                                                                                                                                                                                                                 1\n",
       "ISLAMABAD (Reuters) - U.S. Defense Secretary Jim Mattis met Pakistan s civilian and military leaders on Monday and urged them to  redouble  their efforts to rein in militants accused of using the country as a base to carry out attacks in neighboring Afghanistan. Mattis, on a one-day visit to Pakistan, said the South Asian nation had made progress in the fight against militancy inside its borders but needed to make more. More than 100 days since U.S. President Donald Trump announced a South Asia strategy that calls for a firmer line toward Islamabad, U.S. officials and analysts say there has been only limited success and it is not clear how progress will be made. U.S. officials have long been frustrated by what they see as Pakistan s reluctance to act against groups such as the Afghan Taliban and the Haqqani network that they believe exploit safe haven on Pakistani soil to launch attacks in Afghanistan.  The Secretary reiterated that Pakistan must redouble its efforts to confront militants and terrorists operating within the country,  the Pentagon said in a statement. Mattis, who visited Pakistan for the first time as defense secretary, said before the trip that the goal for his meetings with Pakistani officials would be to find  common ground . In his discussion with Mattis, Pakistani Prime Minister Shahid Khaqan Abbasi said the two allies shared objectives.  We re committed (to) the war against terror,  he said.  Nobody wants peace in Afghanistan more than Pakistan.  Mattis also met with high-ranking officials from Pakistan s powerful military, including army chief General Qamar Javed Bajwa and Lieutenant-General Naveed Mukhtar, the head of the Inter-Services Intelligence spy agency that U.S. officials say has links with Haqqani and Taliban militants. A U.S. defense official, speaking on condition of anonymity, said Mattis  conversations had been  straightforward  and specific. The official said one of the topics of conversation was getting Pakistan to help bring the Taliban to the negotiating table   In August, Trump outlined a new strategy for the war in Afghanistan, chastising Pakistan over its alleged support for Afghan militants. But beyond that, the Trump administration has done little to articulate its strategy, experts say.  U.S. officials say they have not seen a change in Pakistan s support for militants, despite visits by senior U.S. officials, including Secretary of State Rex Tillerson.  We have been very direct and very clear with the Pakistanis ... we have not seen those changes implemented yet,  General John Nicholson, the top U.S. general in Afghanistan, said last week. Pakistani officials have pushed back on the U.S. accusations and say they have done a great deal to help the United States in tracking down militants. U.S. official expressed hope relations could improve after a U.S.-Canadian couple kidnapped in Afghanistan were freed in Pakistan in October with their three children. While the Trump administration has used tougher words with Pakistan, it is has yet to change Islamabad s calculus. Some experts say the United States loses clout in Pakistan when it is seen as bullying. While Mattis traveled to the region earlier this year, he did not stop in Pakistan, but visited its arch rival, India, a relationship that has grown under the Trump administration.   There is not an effective stick anymore because Pakistan doesn t really care about U.S aid, it has been dwindling anyway and it is getting the money it needs elsewhere ... treat it with respect and actually reward it when it does do something good,  said Madiha Afzal, with the Brookings Institution. Mattis  brief visit to Islamabad comes a week after a hardline Pakistani Islamist group called off nationwide protests after the government met its demand that a minister accused of blasphemy resign. Separately, a Pakistani Islamist accused of masterminding a bloody 2008 assault in the Indian city of Mumbai was freed from house arrest. The White House said the release could have repercussions for U.S.-Pakistan relations.  I think for Pakistan, the timing is very bad. There is talk about progress being made against extremists and here you have a situation where religious hardliners have basically been handed everything they wanted on a silver platter,  said Michael Kugelman, with the Woodrow Wilson think tank in Washington.                                                                                                                                                                                                                                                                                                                                                                                                                                                                                                                                                                                                                                                                                                                                                                                                                                                                                                                                                                                                                                                                                                                                                                                                                                                                                                                                                                                                                                     1\n",
       "CAIRO (Reuters) - Former Egyptian prime minister Ahmed Shafik, who returned home from the United Arab Emirates in mysterious circumstances after announcing his bid for Egypt s presidency, told Reuters on Monday he was  fine  but was prevented from saying much more. A Reuters reporter approached Shafik at a Marriott Hotel in a Cairo suburb, where he was accompanied by men in civilian clothes who refused to let him talk and quickly sent the reporter away.  I m fine, thanks to God,  he replied when asked how he was, before three men shouted at the reporter to stop talking to him.  It is okay, leave it at that,  Shafik told the reporter. Reuters was unable to establish the identity of the three men. The former air force chief and government minister told a private Cairo television station on Sunday that he was still considering contesting next year s election, although Shafik was less categorical than his previous declaration of intent.  Today, I am here in the country, so I think I m free to deliberate further on the issue,  he told TV channel Dream.  There s a chance now to investigate and see exactly what is needed ... to feel out if this is the logical choice.  Some of Egyptian President Abdel Fattah al-Sisi s critics consider 76-year-old Shafik to be the strongest potential challenger to the incumbent, who is widely expected to run for a second term next year. On Saturday, Shafik s family said he had been taken from their home in the Emirates and deported back to Egypt, where they said they had lost contact with him until late on Sunday. In Sunday s interview, he dismissed reports that he had been kidnapped.  I hadn t had a chance to prepare the house myself, so all I thought was I d go to one of the hotels. I was surprised - suddenly I m in the car and it s taking me to one of the nicest hotels in my area,  he said.  Here I am talking to you and I am not kidnapped. What are the requirements for being kidnapped?  Shafik s lawyer met him on Sunday at the hotel, saying only that he was in good health, but not whether he was able to leave the hotel or not. A source at the hotel said Shafik s reservation had been made by Egypt s armed forces, when asked for his room number to contact him. After announcing his intention to run for president, the former aviation minister under ousted president Hosni Mubarak and later prime minister during Egypt s 2011 revolt, began receiving indications of support from some on Cairo s streets. Pro-state media quickly painted him as a corrupt old regime hand with ties to the banned Muslim Brotherhood. An interior ministry official said there were no criminal charges pending against Shafik and there had been no order to deport him from the UAE or detain him in Cairo upon his arrival. But a general intelligence official and a national security official at the hotel said Shafik was  not entirely free , without giving details or further explanation. A Reuters witness and airport sources said Shafik had been accompanied in a convoy by Egyptian authorities after his arrival in Cairo. Sisi is an ally of UAE and Saudi Arabia and his supporters say he is key to Egypt s stability. Critics say he has eroded freedoms gained after a 2011 uprising that toppled Mubarak and jailed hundreds of dissidents. Sisi has won backing from Gulf states and has presented himself as a bulwark against Islamist militants since, as army commander, he led the overthrow in 2013 of former president Mohamed Mursi of the now banned Muslim Brotherhood. After four decades in the military, Shafik touted his military experience as one of his strengths in a 2012 election, which he narrowly lost to Mursi. Shafik fled to UAE to escape corruption charges in June 2012. He dismissed the charges as politically motivated and was taken off airport watchlists last year. Sisi has yet to announce his own intentions for the election. His supporters dismiss criticism over rights abuses and say any measures are needed for security in the face of an Islamist insurgency that has killed hundreds of police and soldiers. His government is struggling to crush the insurgency in the North Sinai region and has enacted painful austerity reforms over the last year which critics say have eroded his popularity.                                                                                                                                                                                                                                                                                                                                                                                                                                                                                                                                                                                                                                                                                                                                                                                                                                                                                                                                                                                                                                                                                                                                                                                                                                                                                                                                                                                                                                                                                                                                                                1\n",
       "21st Century Wire says It s not that far away. Guess who wants to run for president in 2020?Just before the New Year bell rung, the embattled Chicago Mayor Rahm Israel Emanuel (D) was forced to cut short his family vacation in Cuba, and headed back to the windy city after yet another embarrassing police shooting last week which claimed two lives as police responding to a  domestic disturbance  call killed  19-year-old Quintonio LeGrier, an engineering student at Northern Illinois University, and bystander 55-year-old Betti Jones, a grandmother.Last week, 100 people, family and activists, held a vigil for the victims. The Mayor has attempted a sort of mea culpa this time, but the public is not buying it, mainly because this was the second major high-profile police shooting incident to rock city hall in the last month. TROUBLE IN HIS KEEP: The LaQuan McDonald shooting has rattled the  dynasty potential  of Chicago s Rahm Emanuel.Currently serving his second term in office, the 56-year-old mayor is going from one crisis to the next, as tensions continue to simmer after the initial controversy, the killing of 17-year-old Laquan McDonald who was shot 16 times by city police on camera   which prompted angry mobs demanding  The King  step down.There could be a political price to pay for all of this. Not only are #BlackLivesMatter on the rampage over these latest shooting events, but also LeGrier s mother, Janet Cooksey, appeared on national TV last Sunday at a news conference, wearing a T-shirt emblazoned with the face of Mayor Emanuel with the words  Rahm Failed Us. Throughout the debacle, Emmanuel has not given in to the public pressure, even though his approval rating has plummeted 20% since hostilities began. On top of this, Chicago has earned the reputation of  murder capital of America , despite the mayor s staunch liberal policy of  gun-free zones  across the city which some critics credit towards creating a criminal s paradise. The Mayor is already on shaky ground. Only last winter, Emanuel narrowly survived a close run-off election to keep his job in office.All of this has the potential to cast a shadow over Emanuel s political future, which is likely to include a Democratic Party presidential run in 2020. It s reported that Emanuel already has a substantial campaign war chest ready to go, billions of dollars in fact, thanks to some very wealthy backers. If Emanuel does go ahead with the 2020 plan, the driving force behind his campaign will be his Hollywood mogul brother, Ari Emanuel, who will spare no expense in terms of PR, marketing and advertising for his brother s political drive to the White House. Part of the newly found Emanuel family fortune derives from their early investment in the virtual taxi service sensation, Uber, with the Emanuel investment estimated to be valued over $1 billion alone. This is not without controversy however, as it was Mayor Rahm Emanuel s deregulation of Chicago s taxi industry that helped Uber shares to skyrocket in value. Critics are saying that there was a conflict of interest there, but in today s seedy political environment of insider trading and open criminality, it might be hard for any politician to pull rank over that issue. Add to this the potential hundreds of millions more in donations that Emanuel will receive from Jewish property tycoon Sheldon Adelson, and also from Jewish billionaire and Emanuel s fellow anti-gun advocate, Michael Bloomberg   and all in the interests of serving Israel, and you can see how Emanuel could be viewed as a 2020 Democratic front-runner already.The Mayor emerged on to the DC sewer scene as part of the Clinton-Obama Chicago political machine. He s been described by AFP s Victor Thorn as,  More sinister than Karl Rove and potentially deadlier than Dick  Darth Vader  Cheney . Back when Emanuel was Barack Obama s chief of staff in 2008, many commentators remarked on his psychopathic behavior, including his frightening Machiavellian exhibition in a White House meeting where he said the administration s political enemies need to,  Die, die, die! , as he stabbed the table in anger, reportedly using either a pen, or letter opener (regardless, that s a bit scary). Enough to scare the American people considering this is a man who most likely has his eyes on the White House. DUAL LOYALTIES: Rahm Emanuel might have a hard to time putting US interests ahead of Netanyahu s.The other strange bone of contention about Emanuel as a candidate is that he is reportedly a dual citizen (although its believed he gave up his Israeli citizenship at 19 years old) who shares a national identity between the United States and Israel, and actual served in the IDF briefly after college. According to Mondoweiss,  Emanuel left when the Gulf War broke out, in order to volunteer in the IDF. He served in one of Israel s northern bases until the war ended, and upon his return to the US became Clinton s advisor in the White House for almost eight years. Emanuel can often be seen in the presence of Israel leader and Zionist extremist, Bibi Netanyahu, which raises the real prospect of Tel Aviv finally having its very own US president embedded in the White House.The fundamental question here is: when it comes down to the crunch, which country s interest would Emanuel be more loyal towards, the US, or Israel. Contrary to popular Republican belief sets, you cannot wear allegiance to both, because no matter how hard the Israel Lobby tries to portray it   both countries have very radically different national and social interests.If this issue sinks any further down the cesspit of public outrage, expect Emanuel s Hollywood PR machine to go into overdrive.READ MORE ISRAEL NEWS AT: 21st Century Wire Israel Files    1\n",
       "Name: text, Length: 38644, dtype: int64"
      ]
     },
     "execution_count": 31,
     "metadata": {},
     "output_type": "execute_result"
    }
   ],
   "source": [
    "df_2[\"text\"].value_counts()"
   ]
  },
  {
   "cell_type": "code",
   "execution_count": 37,
   "metadata": {},
   "outputs": [
    {
     "data": {
      "text/plain": [
       "0        WASHINGTON (Reuters) - The head of a conservat...\n",
       "1        WASHINGTON (Reuters) - Transgender people will...\n",
       "2        WASHINGTON (Reuters) - The special counsel inv...\n",
       "3        WASHINGTON (Reuters) - Trump campaign adviser ...\n",
       "4        SEATTLE/WASHINGTON (Reuters) - President Donal...\n",
       "                               ...                        \n",
       "23476    21st Century Wire says As 21WIRE reported earl...\n",
       "23477    21st Century Wire says It s a familiar theme. ...\n",
       "23478    Patrick Henningsen  21st Century WireRemember ...\n",
       "23479    21st Century Wire says Al Jazeera America will...\n",
       "23480    21st Century Wire says As 21WIRE predicted in ...\n",
       "Name: txt, Length: 44267, dtype: object"
      ]
     },
     "execution_count": 37,
     "metadata": {},
     "output_type": "execute_result"
    }
   ],
   "source": [
    "df2point5 = df_2.rename(columns = {\"text\":\"txt\"})\n",
    "df_3 = df2point5[\"txt\"]\n",
    "df_3"
   ]
  },
  {
   "cell_type": "code",
   "execution_count": 38,
   "metadata": {},
   "outputs": [
    {
     "data": {
      "text/html": [
       "<div>\n",
       "<style scoped>\n",
       "    .dataframe tbody tr th:only-of-type {\n",
       "        vertical-align: middle;\n",
       "    }\n",
       "\n",
       "    .dataframe tbody tr th {\n",
       "        vertical-align: top;\n",
       "    }\n",
       "\n",
       "    .dataframe thead th {\n",
       "        text-align: right;\n",
       "    }\n",
       "</style>\n",
       "<table border=\"1\" class=\"dataframe\">\n",
       "  <thead>\n",
       "    <tr style=\"text-align: right;\">\n",
       "      <th></th>\n",
       "      <th>title</th>\n",
       "      <th>text</th>\n",
       "      <th>IsFake</th>\n",
       "    </tr>\n",
       "  </thead>\n",
       "  <tbody>\n",
       "    <tr>\n",
       "      <th>0</th>\n",
       "      <td>As U.S. budget fight looms, Republicans flip t...</td>\n",
       "      <td>WASHINGTON (Reuters) - The head of a conservat...</td>\n",
       "      <td>0.0</td>\n",
       "    </tr>\n",
       "    <tr>\n",
       "      <th>1</th>\n",
       "      <td>U.S. military to accept transgender recruits o...</td>\n",
       "      <td>WASHINGTON (Reuters) - Transgender people will...</td>\n",
       "      <td>0.0</td>\n",
       "    </tr>\n",
       "    <tr>\n",
       "      <th>2</th>\n",
       "      <td>Senior U.S. Republican senator: 'Let Mr. Muell...</td>\n",
       "      <td>WASHINGTON (Reuters) - The special counsel inv...</td>\n",
       "      <td>0.0</td>\n",
       "    </tr>\n",
       "    <tr>\n",
       "      <th>3</th>\n",
       "      <td>FBI Russia probe helped by Australian diplomat...</td>\n",
       "      <td>WASHINGTON (Reuters) - Trump campaign adviser ...</td>\n",
       "      <td>0.0</td>\n",
       "    </tr>\n",
       "    <tr>\n",
       "      <th>4</th>\n",
       "      <td>Trump wants Postal Service to charge 'much mor...</td>\n",
       "      <td>SEATTLE/WASHINGTON (Reuters) - President Donal...</td>\n",
       "      <td>0.0</td>\n",
       "    </tr>\n",
       "    <tr>\n",
       "      <th>...</th>\n",
       "      <td>...</td>\n",
       "      <td>...</td>\n",
       "      <td>...</td>\n",
       "    </tr>\n",
       "    <tr>\n",
       "      <th>23476</th>\n",
       "      <td>McPain: John McCain Furious That Iran Treated ...</td>\n",
       "      <td>21st Century Wire says As 21WIRE reported earl...</td>\n",
       "      <td>1.0</td>\n",
       "    </tr>\n",
       "    <tr>\n",
       "      <th>23477</th>\n",
       "      <td>JUSTICE? Yahoo Settles E-mail Privacy Class-ac...</td>\n",
       "      <td>21st Century Wire says It s a familiar theme. ...</td>\n",
       "      <td>1.0</td>\n",
       "    </tr>\n",
       "    <tr>\n",
       "      <th>23478</th>\n",
       "      <td>Sunnistan: US and Allied ‘Safe Zone’ Plan to T...</td>\n",
       "      <td>Patrick Henningsen  21st Century WireRemember ...</td>\n",
       "      <td>1.0</td>\n",
       "    </tr>\n",
       "    <tr>\n",
       "      <th>23479</th>\n",
       "      <td>How to Blow $700 Million: Al Jazeera America F...</td>\n",
       "      <td>21st Century Wire says Al Jazeera America will...</td>\n",
       "      <td>1.0</td>\n",
       "    </tr>\n",
       "    <tr>\n",
       "      <th>23480</th>\n",
       "      <td>10 U.S. Navy Sailors Held by Iranian Military ...</td>\n",
       "      <td>21st Century Wire says As 21WIRE predicted in ...</td>\n",
       "      <td>1.0</td>\n",
       "    </tr>\n",
       "  </tbody>\n",
       "</table>\n",
       "<p>44267 rows × 3 columns</p>\n",
       "</div>"
      ],
      "text/plain": [
       "                                                   title  \\\n",
       "0      As U.S. budget fight looms, Republicans flip t...   \n",
       "1      U.S. military to accept transgender recruits o...   \n",
       "2      Senior U.S. Republican senator: 'Let Mr. Muell...   \n",
       "3      FBI Russia probe helped by Australian diplomat...   \n",
       "4      Trump wants Postal Service to charge 'much mor...   \n",
       "...                                                  ...   \n",
       "23476  McPain: John McCain Furious That Iran Treated ...   \n",
       "23477  JUSTICE? Yahoo Settles E-mail Privacy Class-ac...   \n",
       "23478  Sunnistan: US and Allied ‘Safe Zone’ Plan to T...   \n",
       "23479  How to Blow $700 Million: Al Jazeera America F...   \n",
       "23480  10 U.S. Navy Sailors Held by Iranian Military ...   \n",
       "\n",
       "                                                    text  IsFake  \n",
       "0      WASHINGTON (Reuters) - The head of a conservat...     0.0  \n",
       "1      WASHINGTON (Reuters) - Transgender people will...     0.0  \n",
       "2      WASHINGTON (Reuters) - The special counsel inv...     0.0  \n",
       "3      WASHINGTON (Reuters) - Trump campaign adviser ...     0.0  \n",
       "4      SEATTLE/WASHINGTON (Reuters) - President Donal...     0.0  \n",
       "...                                                  ...     ...  \n",
       "23476  21st Century Wire says As 21WIRE reported earl...     1.0  \n",
       "23477  21st Century Wire says It s a familiar theme. ...     1.0  \n",
       "23478  Patrick Henningsen  21st Century WireRemember ...     1.0  \n",
       "23479  21st Century Wire says Al Jazeera America will...     1.0  \n",
       "23480  21st Century Wire says As 21WIRE predicted in ...     1.0  \n",
       "\n",
       "[44267 rows x 3 columns]"
      ]
     },
     "execution_count": 38,
     "metadata": {},
     "output_type": "execute_result"
    }
   ],
   "source": [
    "srs = df_2.squeeze(1)\n",
    "srs"
   ]
  },
  {
   "cell_type": "code",
   "execution_count": 39,
   "metadata": {},
   "outputs": [
    {
     "data": {
      "text/plain": [
       "0    WASHINGTON (Reuters) - The head of a conservat...\n",
       "1    WASHINGTON (Reuters) - Transgender people will...\n",
       "2    WASHINGTON (Reuters) - The special counsel inv...\n",
       "3    WASHINGTON (Reuters) - Trump campaign adviser ...\n",
       "4    SEATTLE/WASHINGTON (Reuters) - President Donal...\n",
       "Name: text, dtype: object"
      ]
     },
     "execution_count": 39,
     "metadata": {},
     "output_type": "execute_result"
    }
   ],
   "source": [
    "# Get first 1000 characters of text\n",
    "df_3 = df_2[\"text\"].str.slice(start = 0, stop = 1000)\n",
    "df_3.head()"
   ]
  },
  {
   "cell_type": "code",
   "execution_count": 40,
   "metadata": {},
   "outputs": [
    {
     "data": {
      "text/html": [
       "<div>\n",
       "<style scoped>\n",
       "    .dataframe tbody tr th:only-of-type {\n",
       "        vertical-align: middle;\n",
       "    }\n",
       "\n",
       "    .dataframe tbody tr th {\n",
       "        vertical-align: top;\n",
       "    }\n",
       "\n",
       "    .dataframe thead th {\n",
       "        text-align: right;\n",
       "    }\n",
       "</style>\n",
       "<table border=\"1\" class=\"dataframe\">\n",
       "  <thead>\n",
       "    <tr style=\"text-align: right;\">\n",
       "      <th></th>\n",
       "      <th>title</th>\n",
       "      <th>IsFake</th>\n",
       "      <th>text</th>\n",
       "    </tr>\n",
       "  </thead>\n",
       "  <tbody>\n",
       "    <tr>\n",
       "      <th>0</th>\n",
       "      <td>As U.S. budget fight looms, Republicans flip t...</td>\n",
       "      <td>0.0</td>\n",
       "      <td>WASHINGTON (Reuters) - The head of a conservat...</td>\n",
       "    </tr>\n",
       "    <tr>\n",
       "      <th>1</th>\n",
       "      <td>U.S. military to accept transgender recruits o...</td>\n",
       "      <td>0.0</td>\n",
       "      <td>WASHINGTON (Reuters) - Transgender people will...</td>\n",
       "    </tr>\n",
       "    <tr>\n",
       "      <th>2</th>\n",
       "      <td>Senior U.S. Republican senator: 'Let Mr. Muell...</td>\n",
       "      <td>0.0</td>\n",
       "      <td>WASHINGTON (Reuters) - The special counsel inv...</td>\n",
       "    </tr>\n",
       "    <tr>\n",
       "      <th>3</th>\n",
       "      <td>FBI Russia probe helped by Australian diplomat...</td>\n",
       "      <td>0.0</td>\n",
       "      <td>WASHINGTON (Reuters) - Trump campaign adviser ...</td>\n",
       "    </tr>\n",
       "    <tr>\n",
       "      <th>4</th>\n",
       "      <td>Trump wants Postal Service to charge 'much mor...</td>\n",
       "      <td>0.0</td>\n",
       "      <td>SEATTLE/WASHINGTON (Reuters) - President Donal...</td>\n",
       "    </tr>\n",
       "  </tbody>\n",
       "</table>\n",
       "</div>"
      ],
      "text/plain": [
       "                                               title  IsFake  \\\n",
       "0  As U.S. budget fight looms, Republicans flip t...     0.0   \n",
       "1  U.S. military to accept transgender recruits o...     0.0   \n",
       "2  Senior U.S. Republican senator: 'Let Mr. Muell...     0.0   \n",
       "3  FBI Russia probe helped by Australian diplomat...     0.0   \n",
       "4  Trump wants Postal Service to charge 'much mor...     0.0   \n",
       "\n",
       "                                                text  \n",
       "0  WASHINGTON (Reuters) - The head of a conservat...  \n",
       "1  WASHINGTON (Reuters) - Transgender people will...  \n",
       "2  WASHINGTON (Reuters) - The special counsel inv...  \n",
       "3  WASHINGTON (Reuters) - Trump campaign adviser ...  \n",
       "4  SEATTLE/WASHINGTON (Reuters) - President Donal...  "
      ]
     },
     "execution_count": 40,
     "metadata": {},
     "output_type": "execute_result"
    }
   ],
   "source": [
    "df_4 = pd.concat([df2point5, df_3], axis=1).drop(columns=\"txt\")\n",
    "df_4.head()"
   ]
  },
  {
   "cell_type": "code",
   "execution_count": 41,
   "metadata": {},
   "outputs": [
    {
     "data": {
      "text/plain": [
       "(Reuters) - Highlights for U.S. President Donald Trump’s administration on Thursday: The United States drops a massive GBU-43 bomb, the largest non-nuclear bomb it has ever used in combat, in Afghanistan against a series of caves used by Islamic State militants, the Pentagon says. Trump says Pyongyang is a problem that “will be taken care of” amid speculation that North Korea is on the verge of a sixth nuclear test. Military force cannot resolve tension over North Korea, China warns, while an influential Chinese newspaper urges Pyongyang to halt its nuclear program in exchange for Beijing’s protection. The Trump administration is focusing its North Korea strategy on tougher economic sanctions, possibly including intercepting cargo ships and punishing Chinese banks doing business with Pyongyang, U.S. officials say. Trump says “things will work out fine” between the United States and Russia, a day after declaring U.S.-Russian relations may be at an all-time low. Trump signals he could be    8\n",
       "(Reuters) - Highlights for U.S. President Donald Trump’s administration on Friday: Trump promises a big announcement about tax reform next week and orders an administration review of Obama-era tax rules written to discourage U.S. companies from relocating overseas to cut their tax bills. Trump tells the Treasury Department to examine two powers given to regulators to police large financial companies following the 2008 financial crisis. South Korea says it is on heightened alert ahead of another important anniversary in North Korea, with a large concentration of military hardware amassed on both sides of the border amid concerns about a new nuclear test by Pyongyang. Trump, striving to make good on a top campaign promise, is pushing fellow Republicans who control Congress to pass revamped healthcare legislation but the same intraparty squabbling that torpedoed it last month could do it again. Defense Secretary Jim Mattis says Syria has dispersed its warplanes in recent days and that it     5\n",
       "(Reuters) - Highlights of the day for U.S. President Donald Trump’s administration on Friday: Trump backs a decision by his former national security adviser, Michael Flynn, to seek immunity in congressional investigations of possible ties between his campaign and Russia, but there is no immediate sign the request will be granted.  The Trump administration slams China on a range of trade issues from its chronic industrial overcapacity to forced technology transfers and longstanding bans on U.S. beef and electronic payment services. Beijing seeks to play down tensions with the United States and put on a positive face ahead of President Xi Jinping’s first meeting with Trump next week. Senate Democrats step closer to having enough votes to block a confirmation vote on Trump’s Supreme Court nominee with three more Democratic senators coming out against Neil Gorsuch for the lifetime job as a justice. Trump seeks to push his plan for fair trade and more manufacturing jobs back to the top of h    5\n",
       "This letter was sent to 100% FED Up! by an anonymous author:It doesn t matter who you support for President in 2016. This letter will make you want to stand up and cheer for the 80 year old American who expresses what most of us are feeling right now. Enjoy RNC P.O. Box 96994 Washington DC 20090-6994Dear Representative,From the time I was able to vote I voted Republican. I am 80 years old, and have a great deal of respect and influence with hundreds of senior ball players who also network with thousands of others around the country.I received your questionnaire and request for money and strongly agree with every question, as I have since Obama was elected. Unfortunately the one question that was missing is  What have the Republicans done for the American people?  We gave you a majority in the House and Senate, yet you never listened to us. Now you want our money.You should be more concerned about our votes, not our money. You are the establishment, which means all you want is to save y    4\n",
       "On September 15, Hillary  apparently  held a rally in the Old Student Recreational Center at the University of North Carolina in Greensboro, NC. This was her first public appearance since she convulsed and had to be lifted into her van following the 9-11 memorial in NYC. Hillary s campaign was quick to blame the heat until they discovered conservative websites were able to quickly access the weather and determine that it was a balmy 74 degrees in NYC! Hillary was quickly whisked away to her daughter Chelsea s apartment following her  incident,  passing more than one hospital on the way to  recuperate.  Did Hillary recover from her  incident  or was this rally faked to make it look like she did?Here is the first video of Hillary s Greensboro, NC rally that was causing viewers to ask  what the heck are those cameras in Hillary s  audience  pointing at?  If you look closely, it sure isn t Hillary!Watch this video first, and then the video below to get a closer analysis of what appears to     4\n",
       "                                                                                                                                                                                                                                                                                                                                                                                                                                                                                                                                                                                                                                                                                                                                                                                                                                                                                                                                                                                                                                           ..\n",
       "BEIRUT (Reuters) - Lebanon s cabinet will meet on Tuesday for the first time since the country entered a political crisis a month ago when Prime Minister Saad al-Hariri offered his resignation in a broadcast from Saudi Arabia.  The cabinet s media office said the session would begin at noon at the presidential palace. The meeting is expected to address Hariri s resignation which thrust Lebanon back into a regional tussle between Riyadh and its main regional foe, Iran.                                                                                                                                                                                                                                                                                                                                                                                                                                                                                                                                                    1\n",
       "JOHANNESBURG (Reuters) - South African Deputy President Cyril Ramaphosa has received the most nominations for leader of the ruling African National Congress (ANC) ahead of a party vote this month, voting data from the country s nine provinces show. Ramaphosa is one of two frontrunners in a closely watched contest to take over from President Jacob Zuma as ANC leader at a party conference starting on Dec. 16. Whoever becomes ANC leader will most likely be the next president of South Africa, owing to the ruling party s electoral dominance. Ramaphosa received 1,862 nominations by ANC branches, whereas his main rival for ANC leader, former cabinet minister Nkosazana Dlamini-Zuma, received 1,309 endorsements. Reuters compiled the number of nominations for each candidate based on voting data released by provincial ANC structures. ANC officials in the provinces of Limpopo and KwaZulu-Natal were the last to release their nominations totals on Monday. Ramaphosa, a former trade union leader and m    1\n",
       "ISLAMABAD (Reuters) - U.S. Defense Secretary Jim Mattis met Pakistan s civilian and military leaders on Monday and urged them to  redouble  their efforts to rein in militants accused of using the country as a base to carry out attacks in neighboring Afghanistan. Mattis, on a one-day visit to Pakistan, said the South Asian nation had made progress in the fight against militancy inside its borders but needed to make more. More than 100 days since U.S. President Donald Trump announced a South Asia strategy that calls for a firmer line toward Islamabad, U.S. officials and analysts say there has been only limited success and it is not clear how progress will be made. U.S. officials have long been frustrated by what they see as Pakistan s reluctance to act against groups such as the Afghan Taliban and the Haqqani network that they believe exploit safe haven on Pakistani soil to launch attacks in Afghanistan.  The Secretary reiterated that Pakistan must redouble its efforts to confront milita    1\n",
       "CAIRO (Reuters) - Former Egyptian prime minister Ahmed Shafik, who returned home from the United Arab Emirates in mysterious circumstances after announcing his bid for Egypt s presidency, told Reuters on Monday he was  fine  but was prevented from saying much more. A Reuters reporter approached Shafik at a Marriott Hotel in a Cairo suburb, where he was accompanied by men in civilian clothes who refused to let him talk and quickly sent the reporter away.  I m fine, thanks to God,  he replied when asked how he was, before three men shouted at the reporter to stop talking to him.  It is okay, leave it at that,  Shafik told the reporter. Reuters was unable to establish the identity of the three men. The former air force chief and government minister told a private Cairo television station on Sunday that he was still considering contesting next year s election, although Shafik was less categorical than his previous declaration of intent.  Today, I am here in the country, so I think I m free    1\n",
       "21st Century Wire says It s not that far away. Guess who wants to run for president in 2020?Just before the New Year bell rung, the embattled Chicago Mayor Rahm Israel Emanuel (D) was forced to cut short his family vacation in Cuba, and headed back to the windy city after yet another embarrassing police shooting last week which claimed two lives as police responding to a  domestic disturbance  call killed  19-year-old Quintonio LeGrier, an engineering student at Northern Illinois University, and bystander 55-year-old Betti Jones, a grandmother.Last week, 100 people, family and activists, held a vigil for the victims. The Mayor has attempted a sort of mea culpa this time, but the public is not buying it, mainly because this was the second major high-profile police shooting incident to rock city hall in the last month. TROUBLE IN HIS KEEP: The LaQuan McDonald shooting has rattled the  dynasty potential  of Chicago s Rahm Emanuel.Currently serving his second term in office, the 56-year-ol    1\n",
       "Name: text, Length: 38629, dtype: int64"
      ]
     },
     "execution_count": 41,
     "metadata": {},
     "output_type": "execute_result"
    }
   ],
   "source": [
    "df_4[\"text\"].value_counts()"
   ]
  },
  {
   "cell_type": "markdown",
   "metadata": {},
   "source": [
    "### **Fake and Real Posts**"
   ]
  },
  {
   "cell_type": "code",
   "execution_count": 43,
   "metadata": {},
   "outputs": [
    {
     "name": "stdout",
     "output_type": "stream",
     "text": [
      "IsFake\n",
      "0.0    21416\n",
      "1.0    22851\n",
      "Name: text, dtype: int64\n"
     ]
    },
    {
     "data": {
      "image/png": "[encoded data removed]",
      "text/plain": [
       "<Figure size 432x288 with 1 Axes>"
      ]
     },
     "metadata": {
      "needs_background": "light"
     },
     "output_type": "display_data"
    }
   ],
   "source": [
    "print(df_4.groupby(['IsFake'])['text'].count())\n",
    "df_4.groupby(['IsFake'])['text'].count().plot(kind='bar')\n",
    "plt.xticks(rotation=70)\n",
    "plt.show()"
   ]
  },
  {
   "cell_type": "code",
   "execution_count": 47,
   "metadata": {},
   "outputs": [
    {
     "data": {
      "text/html": [
       "<div>\n",
       "<style scoped>\n",
       "    .dataframe tbody tr th:only-of-type {\n",
       "        vertical-align: middle;\n",
       "    }\n",
       "\n",
       "    .dataframe tbody tr th {\n",
       "        vertical-align: top;\n",
       "    }\n",
       "\n",
       "    .dataframe thead th {\n",
       "        text-align: right;\n",
       "    }\n",
       "</style>\n",
       "<table border=\"1\" class=\"dataframe\">\n",
       "  <thead>\n",
       "    <tr style=\"text-align: right;\">\n",
       "      <th></th>\n",
       "      <th>title</th>\n",
       "      <th>text</th>\n",
       "    </tr>\n",
       "  </thead>\n",
       "  <tbody>\n",
       "    <tr>\n",
       "      <th>0</th>\n",
       "      <td>As U.S. budget fight looms, Republicans flip t...</td>\n",
       "      <td>WASHINGTON (Reuters) - The head of a conservat...</td>\n",
       "    </tr>\n",
       "    <tr>\n",
       "      <th>1</th>\n",
       "      <td>U.S. military to accept transgender recruits o...</td>\n",
       "      <td>WASHINGTON (Reuters) - Transgender people will...</td>\n",
       "    </tr>\n",
       "    <tr>\n",
       "      <th>2</th>\n",
       "      <td>Senior U.S. Republican senator: 'Let Mr. Muell...</td>\n",
       "      <td>WASHINGTON (Reuters) - The special counsel inv...</td>\n",
       "    </tr>\n",
       "    <tr>\n",
       "      <th>3</th>\n",
       "      <td>FBI Russia probe helped by Australian diplomat...</td>\n",
       "      <td>WASHINGTON (Reuters) - Trump campaign adviser ...</td>\n",
       "    </tr>\n",
       "    <tr>\n",
       "      <th>4</th>\n",
       "      <td>Trump wants Postal Service to charge 'much mor...</td>\n",
       "      <td>SEATTLE/WASHINGTON (Reuters) - President Donal...</td>\n",
       "    </tr>\n",
       "    <tr>\n",
       "      <th>...</th>\n",
       "      <td>...</td>\n",
       "      <td>...</td>\n",
       "    </tr>\n",
       "    <tr>\n",
       "      <th>23476</th>\n",
       "      <td>McPain: John McCain Furious That Iran Treated ...</td>\n",
       "      <td>21st Century Wire says As 21WIRE reported earl...</td>\n",
       "    </tr>\n",
       "    <tr>\n",
       "      <th>23477</th>\n",
       "      <td>JUSTICE? Yahoo Settles E-mail Privacy Class-ac...</td>\n",
       "      <td>21st Century Wire says It s a familiar theme. ...</td>\n",
       "    </tr>\n",
       "    <tr>\n",
       "      <th>23478</th>\n",
       "      <td>Sunnistan: US and Allied ‘Safe Zone’ Plan to T...</td>\n",
       "      <td>Patrick Henningsen  21st Century WireRemember ...</td>\n",
       "    </tr>\n",
       "    <tr>\n",
       "      <th>23479</th>\n",
       "      <td>How to Blow $700 Million: Al Jazeera America F...</td>\n",
       "      <td>21st Century Wire says Al Jazeera America will...</td>\n",
       "    </tr>\n",
       "    <tr>\n",
       "      <th>23480</th>\n",
       "      <td>10 U.S. Navy Sailors Held by Iranian Military ...</td>\n",
       "      <td>21st Century Wire says As 21WIRE predicted in ...</td>\n",
       "    </tr>\n",
       "  </tbody>\n",
       "</table>\n",
       "<p>44267 rows × 2 columns</p>\n",
       "</div>"
      ],
      "text/plain": [
       "                                                   title  \\\n",
       "0      As U.S. budget fight looms, Republicans flip t...   \n",
       "1      U.S. military to accept transgender recruits o...   \n",
       "2      Senior U.S. Republican senator: 'Let Mr. Muell...   \n",
       "3      FBI Russia probe helped by Australian diplomat...   \n",
       "4      Trump wants Postal Service to charge 'much mor...   \n",
       "...                                                  ...   \n",
       "23476  McPain: John McCain Furious That Iran Treated ...   \n",
       "23477  JUSTICE? Yahoo Settles E-mail Privacy Class-ac...   \n",
       "23478  Sunnistan: US and Allied ‘Safe Zone’ Plan to T...   \n",
       "23479  How to Blow $700 Million: Al Jazeera America F...   \n",
       "23480  10 U.S. Navy Sailors Held by Iranian Military ...   \n",
       "\n",
       "                                                    text  \n",
       "0      WASHINGTON (Reuters) - The head of a conservat...  \n",
       "1      WASHINGTON (Reuters) - Transgender people will...  \n",
       "2      WASHINGTON (Reuters) - The special counsel inv...  \n",
       "3      WASHINGTON (Reuters) - Trump campaign adviser ...  \n",
       "4      SEATTLE/WASHINGTON (Reuters) - President Donal...  \n",
       "...                                                  ...  \n",
       "23476  21st Century Wire says As 21WIRE reported earl...  \n",
       "23477  21st Century Wire says It s a familiar theme. ...  \n",
       "23478  Patrick Henningsen  21st Century WireRemember ...  \n",
       "23479  21st Century Wire says Al Jazeera America will...  \n",
       "23480  21st Century Wire says As 21WIRE predicted in ...  \n",
       "\n",
       "[44267 rows x 2 columns]"
      ]
     },
     "execution_count": 47,
     "metadata": {},
     "output_type": "execute_result"
    }
   ],
   "source": [
    "x = df_4.drop(columns=\"IsFake\")\n",
    "x"
   ]
  },
  {
   "cell_type": "code",
   "execution_count": 48,
   "metadata": {},
   "outputs": [
    {
     "data": {
      "text/plain": [
       "0        0.0\n",
       "1        0.0\n",
       "2        0.0\n",
       "3        0.0\n",
       "4        0.0\n",
       "        ... \n",
       "23476    1.0\n",
       "23477    1.0\n",
       "23478    1.0\n",
       "23479    1.0\n",
       "23480    1.0\n",
       "Name: IsFake, Length: 44267, dtype: float64"
      ]
     },
     "execution_count": 48,
     "metadata": {},
     "output_type": "execute_result"
    }
   ],
   "source": [
    "y = df_4[\"IsFake\"]\n",
    "y"
   ]
  },
  {
   "cell_type": "markdown",
   "metadata": {},
   "source": [
    "## **Export New Dataset**"
   ]
  },
  {
   "cell_type": "code",
   "execution_count": 175,
   "metadata": {},
   "outputs": [],
   "source": [
    "# Menyimpan data olahan ke csv\n",
    "x.to_csv(\"../Dataset/Construction Data/features.csv\", index=False)"
   ]
  },
  {
   "cell_type": "code",
   "execution_count": 176,
   "metadata": {},
   "outputs": [],
   "source": [
    "y.to_csv(\"../Dataset/Construction Data/labels.csv\", index=False)"
   ]
  }
 ],
 "metadata": {
  "colab": {
   "collapsed_sections": [],
   "name": "Fake News Detection - SVM.ipynb",
   "provenance": []
  },
  "kernelspec": {
   "display_name": "Python 3 (ipykernel)",
   "language": "python",
   "name": "python3"
  },
  "language_info": {
   "codemirror_mode": {
    "name": "ipython",
    "version": 3
   },
   "file_extension": ".py",
   "mimetype": "text/x-python",
   "name": "python",
   "nbconvert_exporter": "python",
   "pygments_lexer": "ipython3",
   "version": "3.9.7"
  }
 },
 "nbformat": 4,
 "nbformat_minor": 1
}
