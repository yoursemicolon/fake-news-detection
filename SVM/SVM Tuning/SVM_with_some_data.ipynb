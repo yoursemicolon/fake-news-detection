{
  "nbformat": 4,
  "nbformat_minor": 0,
  "metadata": {
    "colab": {
      "name": "SVM_with_data.ipynb",
      "provenance": []
    },
    "kernelspec": {
      "name": "python3",
      "display_name": "Python 3"
    },
    "accelerator": "GPU"
  },
  "cells": [
    {
      "cell_type": "code",
      "metadata": {
        "id": "GN1nmh77ASiD",
        "colab_type": "code",
        "colab": {
          "base_uri": "https://localhost:8080/",
          "height": 34
        },
        "outputId": "e1651b4d-4456-43e5-fe26-07cca494f8b2"
      },
      "source": [
        "from google.colab import drive\n",
        "drive.mount('/content/drive')"
      ],
      "execution_count": 13,
      "outputs": [
        {
          "output_type": "stream",
          "text": [
            "Drive already mounted at /content/drive; to attempt to forcibly remount, call drive.mount(\"/content/drive\", force_remount=True).\n"
          ],
          "name": "stdout"
        }
      ]
    },
    {
      "cell_type": "code",
      "metadata": {
        "id": "WAyVIHelAmO0",
        "colab_type": "code",
        "colab": {}
      },
      "source": [
        "import pandas as pd\n",
        "from scipy import sparse"
      ],
      "execution_count": 14,
      "outputs": []
    },
    {
      "cell_type": "code",
      "metadata": {
        "id": "btBS1C6-AVlU",
        "colab_type": "code",
        "colab": {}
      },
      "source": [
        "\n",
        "file_path = '/content/drive/My Drive/MIT AI Class Work/Final Project'\n",
        "labels = pd.read_csv(file_path + '/labels.csv')\n",
        "features = sparse.load_npz(file_path+ '/ngram.npz')"
      ],
      "execution_count": 15,
      "outputs": []
    },
    {
      "cell_type": "code",
      "metadata": {
        "id": "a2dyVJtCAKF8",
        "colab_type": "code",
        "colab": {
          "base_uri": "https://localhost:8080/",
          "height": 50
        },
        "outputId": "4457ad04-5cd6-4664-ad5b-244ccc6322b1"
      },
      "source": [
        "#comment\n",
        "from sklearn.model_selection import train_test_split\n",
        "from sklearn import datasets\n",
        "from sklearn import svm\n",
        "import numpy as np\n",
        "\n",
        "\n",
        "\n",
        "X = features \n",
        "y = labels\n",
        "\n",
        "X_train, X_test, Y_train, Y_test = train_test_split(X, y, test_size=0.9, random_state=100) #split data for traininga\n",
        "\n",
        "print(\"here\")\n",
        "\n",
        "clf = svm.SVC(kernel = \"linear\", verbose = True) #SVM Model, default C-value\n",
        "clf.fit(X_train, Y_train.values.ravel())\n",
        "\n",
        "accuracy = clf.score(X_test, Y_test)\n",
        "print(\"This is the accuracy \", accuracy)\n",
        "\n",
        "#C_values = [0.001, 0.01, 0.1, 1] #test various C-values to determine which gives the best accuraccy\n",
        "#for i in C_values:\n",
        " # clf = svm.SVC(kernel = \"linear\", C=i)\n",
        "  #clf.fit(X_train, Y_train)\n",
        "  #print(i, clf.score(X_test, Y_test))"
      ],
      "execution_count": 16,
      "outputs": [
        {
          "output_type": "stream",
          "text": [
            "here\n",
            "[LibSVM]This is the accuracy  0.7825857784694159\n"
          ],
          "name": "stdout"
        }
      ]
    }
  ]
}