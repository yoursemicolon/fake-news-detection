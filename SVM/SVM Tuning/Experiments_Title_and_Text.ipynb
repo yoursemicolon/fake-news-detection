{
  "nbformat": 4,
  "nbformat_minor": 0,
  "metadata": {
    "colab": {
      "name": "Experiments_Title_and_Text.ipynb",
      "provenance": [],
      "authorship_tag": "ABX9TyNrfUD04nZ2T50nnXuPv6zz",
      "include_colab_link": true
    },
    "kernelspec": {
      "name": "python3",
      "display_name": "Python 3"
    },
    "accelerator": "GPU"
  },
  "cells": [
    {
      "cell_type": "markdown",
      "metadata": {
        "id": "view-in-github",
        "colab_type": "text"
      },
      "source": [
        "<a href=\"https://colab.research.google.com/github/MehtaPlusTutoring-MLBootcamp20/Brr-/blob/master/Experiments_Title_and_Text.ipynb\" target=\"_parent\"><img src=\"https://colab.research.google.com/assets/colab-badge.svg\" alt=\"Open In Colab\"/></a>"
      ]
    },
    {
      "cell_type": "code",
      "metadata": {
        "id": "Auytm-MRJ_mn",
        "colab_type": "code",
        "colab": {
          "base_uri": "https://localhost:8080/",
          "height": 122
        },
        "outputId": "b501d236-7321-4853-9246-c842496dd404"
      },
      "source": [
        "from google.colab import drive\n",
        "drive.mount(\"/content/drive\", force_remount=True)"
      ],
      "execution_count": 1,
      "outputs": [
        {
          "output_type": "stream",
          "text": [
            "Go to this URL in a browser: https://accounts.google.com/o/oauth2/auth?client_id=947318989803-6bn6qk8qdgf4n4g3pfee6491hc0brc4i.apps.googleusercontent.com&redirect_uri=urn%3aietf%3awg%3aoauth%3a2.0%3aoob&response_type=code&scope=email%20https%3a%2f%2fwww.googleapis.com%2fauth%2fdocs.test%20https%3a%2f%2fwww.googleapis.com%2fauth%2fdrive%20https%3a%2f%2fwww.googleapis.com%2fauth%2fdrive.photos.readonly%20https%3a%2f%2fwww.googleapis.com%2fauth%2fpeopleapi.readonly\n",
            "\n",
            "Enter your authorization code:\n",
            "··········\n",
            "Mounted at /content/drive\n"
          ],
          "name": "stdout"
        }
      ]
    },
    {
      "cell_type": "code",
      "metadata": {
        "id": "0RevHQ0fLIR-",
        "colab_type": "code",
        "colab": {}
      },
      "source": [
        "import pandas as pd\n",
        "from scipy import sparse\n",
        "from scipy.sparse import hstack\n",
        "\n",
        "file_path = '/content/drive/My Drive/MLBootCamp'\n",
        "\n",
        "A = sparse.load_npz(file_path+ '/sparse_matrix_for_text.npz')\n",
        "B = sparse.load_npz(file_path+ '/sparse_matrix_for_title.npz')\n",
        "C= hstack([A,B])\n",
        "sparse.save_npz(\"sparse_matrix_for_all.npz\", C)\n",
        "\n",
        "\n",
        "labels = pd.read_csv(file_path + '/labels (1).csv')\n",
        "features = sparse.load_npz(\"sparse_matrix_for_all.npz\")"
      ],
      "execution_count": 2,
      "outputs": []
    },
    {
      "cell_type": "code",
      "metadata": {
        "id": "lCU9C6utLIa8",
        "colab_type": "code",
        "colab": {
          "base_uri": "https://localhost:8080/",
          "height": 34
        },
        "outputId": "eaeefe54-037b-4e9e-e510-98386efc801b"
      },
      "source": [
        "from sklearn.model_selection import train_test_split\n",
        "from sklearn import datasets\n",
        "from sklearn import svm\n",
        "import numpy as np\n",
        "\n",
        "\n",
        "X = features \n",
        "y = labels\n",
        "\n",
        "X_train, X_test, Y_train, Y_test = train_test_split(X, y, test_size=0.2, random_state=100) #split data for traininga\n",
        "\n",
        "clf = svm.SVC(kernel = \"linear\") #SVM Model, default C-value\n",
        "clf.fit(X_train, Y_train.values.ravel())\n",
        "\n",
        "accuracy = clf.score(X_test, Y_test) #accuracy\n",
        "print(\"This is the accuracy \", accuracy)"
      ],
      "execution_count": null,
      "outputs": [
        {
          "output_type": "stream",
          "text": [
            "This is the accuracy  0.9787666591371131\n"
          ],
          "name": "stdout"
        }
      ]
    },
    {
      "cell_type": "code",
      "metadata": {
        "id": "GcYZstE_LIha",
        "colab_type": "code",
        "colab": {
          "base_uri": "https://localhost:8080/",
          "height": 85
        },
        "outputId": "db1cf44d-2deb-4eec-9661-82eb66ed168b"
      },
      "source": [
        "from sklearn.model_selection import train_test_split\n",
        "from sklearn import datasets\n",
        "from sklearn import svm\n",
        "import numpy as np\n",
        "\n",
        "\n",
        "X = features \n",
        "y = labels\n",
        "\n",
        "X_train, X_test, Y_train, Y_test = train_test_split(X, y, test_size=0.2, random_state=100) #split data for training\n",
        "\n",
        "cs = [0.1, 1, 10, 100]\n",
        "for c in cs:\n",
        "  svc = svm.SVC(kernel='poly', C=c).fit(X_train, Y_train.values.ravel())\n",
        "  print(c, svc.score(X_test, Y_test))"
      ],
      "execution_count": null,
      "outputs": [
        {
          "output_type": "stream",
          "text": [
            "0.1 0.5150214592274678\n",
            "1 0.7234018522701604\n",
            "10 0.7272419245538739\n",
            "100 0.5967924102100746\n"
          ],
          "name": "stdout"
        }
      ]
    },
    {
      "cell_type": "code",
      "metadata": {
        "id": "Ltl6p94OLeec",
        "colab_type": "code",
        "colab": {
          "base_uri": "https://localhost:8080/",
          "height": 102
        },
        "outputId": "5bf35815-dce3-4d1b-9791-7e49f81ec063"
      },
      "source": [
        "cs = [0.1, 1, 10, 100, 1000]\n",
        "for c in cs:\n",
        "  svc = svm.SVC(kernel='sigmoid', C=c).fit(X_train, Y_train.values.ravel())\n",
        "  print(c, svc.score(X_test, Y_test))"
      ],
      "execution_count": null,
      "outputs": [
        {
          "output_type": "stream",
          "text": [
            "0.1 0.9151795798509148\n",
            "1 0.9814772983962051\n",
            "10 0.9840749943528349\n",
            "100 0.9822679015134402\n",
            "1000 0.9782019426248023\n"
          ],
          "name": "stdout"
        }
      ]
    },
    {
      "cell_type": "code",
      "metadata": {
        "id": "RpG409YgLIpr",
        "colab_type": "code",
        "colab": {
          "base_uri": "https://localhost:8080/",
          "height": 85
        },
        "outputId": "65dbdce8-daab-4b1a-c0c0-9ad1c5d5140c"
      },
      "source": [
        "from sklearn.model_selection import train_test_split\n",
        "from sklearn import datasets\n",
        "from sklearn import svm\n",
        "import numpy as np\n",
        "\n",
        "\n",
        "X = features \n",
        "y = labels\n",
        "\n",
        "X_train, X_test, Y_train, Y_test = train_test_split(X, y, test_size=0.2, random_state=100) #split data for training\n",
        "\n",
        "gammas = [0.1, 1, 10, 100]\n",
        "for gamma in gammas:\n",
        "  svc = svm.SVC(kernel='poly', gamma=gamma).fit(X_train, Y_train.values.ravel())\n",
        "  print(gamma, svc.score(X_test, Y_test))"
      ],
      "execution_count": null,
      "outputs": [
        {
          "output_type": "stream",
          "text": [
            "0.1 0.5832392139146149\n",
            "1 0.5758978992545742\n",
            "10 0.5758978992545742\n",
            "100 0.5758978992545742\n"
          ],
          "name": "stdout"
        }
      ]
    },
    {
      "cell_type": "code",
      "metadata": {
        "id": "e_Qm2ySGLItK",
        "colab_type": "code",
        "colab": {
          "base_uri": "https://localhost:8080/",
          "height": 85
        },
        "outputId": "8516c23b-2e61-4c3b-bfc2-35c99bd642ae"
      },
      "source": [
        "gammas = [0.1, 1, 10, 100]\n",
        "for gamma in gammas:\n",
        "  svc = svm.SVC(kernel='sigmoid', gamma=gamma).fit(X_train, Y_train.values.ravel())\n",
        "  print(gamma, svc.score(X_test, Y_test))"
      ],
      "execution_count": null,
      "outputs": [
        {
          "output_type": "stream",
          "text": [
            "0.1 0.9168737293878473\n",
            "1 0.7122204653264061\n",
            "10 0.6643325050824486\n",
            "100 0.6643325050824486\n"
          ],
          "name": "stdout"
        }
      ]
    },
    {
      "cell_type": "code",
      "metadata": {
        "id": "hFYEVZfMgTaR",
        "colab_type": "code",
        "colab": {
          "base_uri": "https://localhost:8080/",
          "height": 85
        },
        "outputId": "62d245f6-d660-4d64-d7a2-cd3d84dee6c6"
      },
      "source": [
        "from sklearn.model_selection import train_test_split\n",
        "from sklearn import datasets\n",
        "from sklearn import svm\n",
        "import numpy as np\n",
        "\n",
        "\n",
        "X = features \n",
        "y = labels\n",
        "\n",
        "X_train, X_test, Y_train, Y_test = train_test_split(X, y, test_size=0.2, random_state=100) #split data for training\n",
        "\n",
        "gammas = [0.1, 1, 10, 100]\n",
        "for gamma in gammas:\n",
        "  svc = svm.SVC(kernel='rbf', gamma=gamma).fit(X_train, Y_train.values.ravel())\n",
        "  print(gamma, svc.score(X_test, Y_test))"
      ],
      "execution_count": 4,
      "outputs": [
        {
          "output_type": "stream",
          "text": [
            "0.1 0.6846622995256382\n",
            "1 0.672125592952338\n",
            "10 0.672125592952338\n",
            "100 0.672125592952338\n"
          ],
          "name": "stdout"
        }
      ]
    },
    {
      "cell_type": "code",
      "metadata": {
        "id": "ECh7Y1ZMgLc5",
        "colab_type": "code",
        "colab": {
          "base_uri": "https://localhost:8080/",
          "height": 102
        },
        "outputId": "d095c086-ddfd-4fb7-f05d-1001ff914f5f"
      },
      "source": [
        "from sklearn.model_selection import train_test_split\n",
        "from sklearn import datasets\n",
        "from sklearn import svm\n",
        "import numpy as np\n",
        "\n",
        "\n",
        "X = features \n",
        "y = labels\n",
        "\n",
        "X_train, X_test, Y_train, Y_test = train_test_split(X, y, test_size=0.2, random_state=100) #split data for training\n",
        "\n",
        "C_values = [0.001, 0.01, 0.1, 1, 10] #test various C-values to determine which gives the best accuraccy\n",
        "for i in C_values:\n",
        "  clf = svm.SVC(kernel = \"linear\", C=i)\n",
        "  clf.fit(X_train, Y_train.values.ravel())\n",
        "  print(i, clf.score(X_test, Y_test))"
      ],
      "execution_count": null,
      "outputs": [
        {
          "output_type": "stream",
          "text": [
            "0.001 0.9155184097583013\n",
            "0.01 0.9801219787666592\n",
            "0.1 0.98068669527897\n",
            "1 0.9787666591371131\n",
            "10 0.9740230404337022\n"
          ],
          "name": "stdout"
        }
      ]
    },
    {
      "cell_type": "code",
      "metadata": {
        "id": "VA5sPlOEgZ9f",
        "colab_type": "code",
        "colab": {
          "base_uri": "https://localhost:8080/",
          "height": 102
        },
        "outputId": "83c97ac3-51f7-4574-b604-9b77941713f0"
      },
      "source": [
        "from sklearn.model_selection import train_test_split\n",
        "from sklearn import datasets\n",
        "from sklearn import svm\n",
        "import numpy as np\n",
        "\n",
        "\n",
        "X = features \n",
        "y = labels\n",
        "\n",
        "X_train, X_test, Y_train, Y_test = train_test_split(X, y, test_size=0.2, random_state=100) #split data for training\n",
        "\n",
        "cs = [0.1, 1, 10, 100, 1000]\n",
        "for c in cs:\n",
        "  svc = svm.SVC(kernel='rbf', C=c).fit(X_train, Y_train.values.ravel())\n",
        "  print(c, svc.score(X_test, Y_test))"
      ],
      "execution_count": 3,
      "outputs": [
        {
          "output_type": "stream",
          "text": [
            "0.1 0.8025751072961373\n",
            "1 0.9699570815450643\n",
            "10 0.9730065507115429\n",
            "100 0.9730065507115429\n",
            "1000 0.9730065507115429\n"
          ],
          "name": "stdout"
        }
      ]
    },
    {
      "cell_type": "code",
      "metadata": {
        "id": "mLySmeOAgd1r",
        "colab_type": "code",
        "colab": {
          "base_uri": "https://localhost:8080/",
          "height": 119
        },
        "outputId": "5fac91ef-7ca8-4f30-ba57-91016818b627"
      },
      "source": [
        "degrees = [0, 1, 2, 3, 4, 5, 6]\n",
        "for degree in degrees:\n",
        "  svc = svm.SVC(kernel='poly', degree=degree).fit(X_train, Y_train.values.ravel())\n",
        "  print(degree, svc.score(X_test, Y_test))"
      ],
      "execution_count": null,
      "outputs": [
        {
          "output_type": "stream",
          "text": [
            "0 0.5147955726225435\n",
            "1 0.9801219787666592\n",
            "2 0.9298622091709962\n",
            "3 0.7234018522701604\n",
            "4 0.6642195617799864\n",
            "5 0.6571041337248701\n"
          ],
          "name": "stdout"
        }
      ]
    }
  ]
}