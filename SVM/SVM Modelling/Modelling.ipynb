{
 "cells": [
  {
   "cell_type": "markdown",
   "metadata": {
    "colab_type": "text",
    "id": "view-in-github"
   },
   "source": [
    "<a href=\"https://colab.research.google.com/github/MehtaPlusTutoring-MLBootcamp20/Brr-/blob/master/Final_Experiments_Title_and_Text.ipynb\" target=\"_parent\"><img src=\"https://colab.research.google.com/assets/colab-badge.svg\" alt=\"Open In Colab\"/></a>"
   ]
  },
  {
   "cell_type": "markdown",
   "metadata": {},
   "source": [
    "# **Progress Final Project**\n",
    "\n",
    "**Kecerdasan Komputasional F** <br>\n",
    "**Anggota Kelompok:**\n",
    "1. Nur Hidayati (05111940000028)\n",
    "2. Amanda Rozi Kurnia (05111940000094)\n",
    "3. Shahnaaz Anisa Firdaus (05111940000158)"
   ]
  },
  {
   "cell_type": "markdown",
   "metadata": {},
   "source": [
    "# SVM Modelling\n",
    "\n",
    "Support Vector Machine (SVM) merupakan salah satu metode dalam supervised learning yang biasanya digunakan untuk klasifikasi. Dalam pemodelan klasifikasi, SVM memiliki konsep yang lebih matang dan lebih jelas secara matematis dibandingkan dengan teknik-teknik klasifikasi lainnya. SVM juga dapat mengatasi masalah klasifikasi dan regresi dengan linear maupun non linear."
   ]
  },
  {
   "cell_type": "markdown",
   "metadata": {},
   "source": [
    "SVM digunakan untuk mencari hyperplane terbaik dengan memaksimalkan jarak antar kelas. Hyperplane adalah sebuah fungsi yang dapat digunakan untuk pemisah kelas. Hyperplane adalah sebuah fungsi yang dapat digunakan untuk pemisah antar kelas. Dalam 2D fungsi yang digunakan untuk klasifikasi antar kelas disebut sebagai *line whereas*, fungsi yang digunakan untuk klasifikasi antas kelas dalam 3-D disebut *plane similarly*, sedangan fungsi yang digunakan untuk klasifikasi di dalam ruang kelas dimensi yang lebih tinggi di sebut hyperplane."
   ]
  },
  {
   "cell_type": "markdown",
   "metadata": {},
   "source": [
    "Dalam SVM objek data terluar yang paling dekat dengan hyperplane disebut support vector. Objek yang disebut support vector paling sulit diklasifikasikan dikarenakan posisi yang hampir tumpang tindih (overlap) dengan kelas lain. Mengingat sifatnya yang kritis, hanya support vector inilah yang diperhitungkan untuk menemukan hyperplane yang paling optimal oleh SVM."
   ]
  },
  {
   "cell_type": "code",
   "execution_count": 5,
   "metadata": {
    "colab": {},
    "colab_type": "code",
    "id": "0RevHQ0fLIR-"
   },
   "outputs": [],
   "source": [
    "import pandas as pd\n",
    "from scipy import sparse\n",
    "from scipy.sparse import hstack\n",
    "\n",
    "A = sparse.load_npz(\"../../Data Preparation/sparse_matrix_for_text.npz\")\n",
    "B = sparse.load_npz(\"../../Data Preparation/sparse_matrix_for_title.npz\")\n",
    "C= hstack([A,B])\n",
    "sparse.save_npz(\"sparse_matrix_for_all.npz\", C)\n",
    "\n",
    "labels = pd.read_csv(\"../../Dataset/Construction Data/labels.csv\")\n",
    "features = sparse.load_npz(\"sparse_matrix_for_all.npz\")"
   ]
  },
  {
   "cell_type": "markdown",
   "metadata": {},
   "source": [
    "### **Splitting Data**\n",
    "\n",
    "Untuk memahami performa model, dataset dibagi ke dalam dua bagian, yaitu training dan testing dengan rasio 80:20. Dataset dibagi menggunakan fungsi train_test_split() dengan 3 parameter: features, target dan test_size. Kita juga bisa memberikan parameter random_state untuk memilih records secara acak."
   ]
  },
  {
   "cell_type": "code",
   "execution_count": 6,
   "metadata": {},
   "outputs": [],
   "source": [
    "from sklearn.model_selection import train_test_split\n",
    "from sklearn import datasets\n",
    "import numpy as np\n",
    "\n",
    "X = features \n",
    "y = labels\n",
    "\n",
    "X_train, X_test, Y_train, Y_test = train_test_split(X, y, test_size=0.2, random_state=100) #split data for training"
   ]
  },
  {
   "cell_type": "markdown",
   "metadata": {},
   "source": [
    "## **Generating Model**"
   ]
  },
  {
   "cell_type": "markdown",
   "metadata": {},
   "source": [
    "Untuk membangun model SVM, import modul SVM dan buat SVC (support vector classifier) object dengan kernel sebagai passing argument pada fungsi SVC(). Kemudian, fit training model dengan fungsi fit() dan lakukan prediksi pada testing model dengan fungsi predict().\n",
    "\n",
    "Metode SVM mempunyai 3 model pendekatan atau yang biasa disebut kernel yaitu kernel radial, linier dan sigmoid. Pada kesempatan kali ini kita akan membandingkan diantara 3 fungsi kernel tersebut mana yang lebih baik digunakan untuk melakukan klasifikasi."
   ]
  },
  {
   "cell_type": "markdown",
   "metadata": {},
   "source": [
    "### **Linear Kernel**\n",
    "\n",
    "Linear kernel digunakan untuk representasi data berupa vector. Kernel ini juga digunakan untuk text mining dimana dokumen di representasikan oleh vector yang terdiri dari frekuensi kata – kata."
   ]
  },
  {
   "cell_type": "code",
   "execution_count": null,
   "metadata": {
    "colab": {
     "base_uri": "https://localhost:8080/",
     "height": 34
    },
    "colab_type": "code",
    "id": "lCU9C6utLIa8",
    "outputId": "206e81a1-db81-4b9e-f2a3-097a91887fbd"
   },
   "outputs": [],
   "source": [
    "# import SVM model\n",
    "from sklearn import svm\n",
    "\n",
    "# creae a SM classifier\n",
    "clf = svm.SVC(kernel = \"linear\", C=.1)\n",
    "\n",
    "# train the model using the training sets\n",
    "clf.fit(X_train, Y_train.values.ravel())\n",
    "\n",
    "accuracy = clf.score(X_test, Y_test) #accuracy\n",
    "print(\"This is the accuracy for the linear\", accuracy)"
   ]
  },
  {
   "cell_type": "markdown",
   "metadata": {},
   "source": [
    "### **Polynomial Kernel**"
   ]
  },
  {
   "cell_type": "code",
   "execution_count": 4,
   "metadata": {
    "colab": {
     "base_uri": "https://localhost:8080/",
     "height": 34
    },
    "colab_type": "code",
    "id": "J_tZWBdJVwRk",
    "outputId": "e1697a4f-9b82-4345-e50a-509811d7f28c"
   },
   "outputs": [
    {
     "name": "stdout",
     "output_type": "stream",
     "text": [
      "poly 0.98068669527897\n"
     ]
    }
   ],
   "source": [
    "svc = svm.SVC(kernel='poly', C=1, degree=1, gamma=.1).fit(X_train, Y_train.values.ravel())\n",
    "print(\"poly\", svc.score(X_test, Y_test))"
   ]
  },
  {
   "cell_type": "markdown",
   "metadata": {},
   "source": [
    "### **Sigmoid Kernel**"
   ]
  },
  {
   "cell_type": "code",
   "execution_count": 5,
   "metadata": {
    "colab": {
     "base_uri": "https://localhost:8080/",
     "height": 34
    },
    "colab_type": "code",
    "id": "5ZKxU5b6VwX8",
    "outputId": "66b7432d-faa6-4523-d261-853228ec40f9"
   },
   "outputs": [
    {
     "name": "stdout",
     "output_type": "stream",
     "text": [
      "sigmoid 0.9094194714253445\n"
     ]
    }
   ],
   "source": [
    "svc = svm.SVC(kernel='sigmoid', C=10, gamma=.1).fit(X_train, Y_train.values.ravel())\n",
    "print(\"sigmoid\", svc.score(X_test, Y_test))"
   ]
  },
  {
   "cell_type": "markdown",
   "metadata": {},
   "source": [
    "### **Gaussian/RBF Kernel**"
   ]
  },
  {
   "cell_type": "code",
   "execution_count": 3,
   "metadata": {
    "colab": {
     "base_uri": "https://localhost:8080/",
     "height": 34
    },
    "colab_type": "code",
    "id": "buZ6yaDvVwPX",
    "outputId": "2afbe461-e6bd-4405-efea-40aac78e0a9f"
   },
   "outputs": [
    {
     "name": "stdout",
     "output_type": "stream",
     "text": [
      "rbf 0.6839846397108651\n"
     ]
    }
   ],
   "source": [
    "from sklearn.model_selection import train_test_split\n",
    "from sklearn import datasets\n",
    "from sklearn import svm\n",
    "import numpy as np\n",
    "\n",
    "\n",
    "X = features \n",
    "y = labels\n",
    "\n",
    "X_train, X_test, Y_train, Y_test = train_test_split(X, y, test_size=0.2, random_state=100)\n",
    "\n",
    "svc = svm.SVC(kernel='rbf', gamma=.1, C=10).fit(X_train, Y_train.values.ravel())\n",
    "print(\"rbf\", svc.score(X_test, Y_test))"
   ]
  },
  {
   "cell_type": "markdown",
   "metadata": {},
   "source": [
    "### **Poly Kernel**"
   ]
  },
  {
   "cell_type": "code",
   "execution_count": 5,
   "metadata": {
    "colab": {
     "base_uri": "https://localhost:8080/",
     "height": 34
    },
    "colab_type": "code",
    "id": "usTOVmeTlhxZ",
    "outputId": "8bbd783b-75b8-49e4-f19c-881b02689671"
   },
   "outputs": [
    {
     "name": "stdout",
     "output_type": "stream",
     "text": [
      "poly 0.9801219787666592\n"
     ]
    }
   ],
   "source": [
    "svc = svm.SVC(kernel='poly', C=1, degree=1).fit(X_train, Y_train.values.ravel())\n",
    "print(\"poly\", svc.score(X_test, Y_test))"
   ]
  },
  {
   "cell_type": "markdown",
   "metadata": {
    "colab_type": "text",
    "id": "iNDOGtwXlr1J"
   },
   "source": [
    "### Sigmoid dengan default gamma value tapi c=10 mencapai akurasi 98.4% , yang mana merupakan akurasi yang paling mendekati akurat."
   ]
  }
 ],
 "metadata": {
  "colab": {
   "authorship_tag": "ABX9TyPsSJBj5K0rtcDi14gdvsqp",
   "include_colab_link": true,
   "name": "Final_Experiments_Title_and_Text.ipynb",
   "provenance": []
  },
  "kernelspec": {
   "display_name": "Python 3 (ipykernel)",
   "language": "python",
   "name": "python3"
  },
  "language_info": {
   "codemirror_mode": {
    "name": "ipython",
    "version": 3
   },
   "file_extension": ".py",
   "mimetype": "text/x-python",
   "name": "python",
   "nbconvert_exporter": "python",
   "pygments_lexer": "ipython3",
   "version": "3.9.7"
  }
 },
 "nbformat": 4,
 "nbformat_minor": 1
}
